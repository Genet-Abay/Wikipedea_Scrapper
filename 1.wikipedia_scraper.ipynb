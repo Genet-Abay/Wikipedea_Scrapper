{
 "cells": [
  {
   "cell_type": "markdown",
   "metadata": {
    "id": "rru15J6cT0aF"
   },
   "source": [
    "# Your first scraper\n",
    "In this project, we will guide you step by step through the process of:\n",
    "\n",
    "1. creating a self-contained development environment.\n",
    "1. retrieving some information from an API (a website for computers)\n",
    "2. leveraging it to scrape a website that does not provide an API\n",
    "3. saving the output for later processing\n",
    "\n",
    "Here we query an API for a list of countries and their past leaders. We then extract and sanitize their short bio from Wikipedia. Finally, we save the data to disk.\n",
    "\n",
    "This task is often the first (coding) step of a datascience project and you will often come back to it in the future.\n",
    "\n",
    "You will study topics such as *scraping*, *data structures*, *regular expressions*, *concurrency* and *file handling*. We will point out useful resources at the appropriate time. \n",
    "\n",
    "Let's dive in!"
   ]
  },
  {
   "cell_type": "markdown",
   "metadata": {},
   "source": [
    "## Creating a clean environment\n",
    "\n",
    "Use the [`venv`](https://docs.python.org/3/library/venv.html) command to create a new environment called `wikipedia_scraper`.\n",
    "\n",
    "You will find more info about virtual environments [here](../../2.python/1.python_fundamentals/02.Package-Managers/00.Package_Managers.md).\n",
    "\n",
    "Activate it and find a way to use it for this notebook."
   ]
  },
  {
   "cell_type": "markdown",
   "metadata": {
    "id": "48qvKH56a1Wy"
   },
   "source": [
    "## API Scraping\n",
    "\n",
    "### A simple API query\n",
    "You will start with the basics: how to do a simple request to an [API endpoint](../../2.python/2.python_advanced/05.Scraping/5.apis.ipynb).\n",
    "\n",
    "You will use the [requests](https://requests.readthedocs.io/en/latest/) external library through the `import` keyword.\n",
    "\n",
    "NOTE: external libraries need to be installed first. Check their documentation.\n",
    "\n",
    "Check the [Quickstart](https://requests.readthedocs.io/en/latest/user/quickstart/) section of the Requests documentation to:\n",
    "1. use the `get()` method to connect to this endpoint: `https://country-leaders.herokuapp.com/status`\n",
    "2. check if the `status_code` is equal to 200, which means OK.\n",
    "    * if OK, `print()` the `text`` of the response.\n",
    "    * if not, `print()` the `status_code`. \n",
    "\n",
    "Here is the signification of [HTTP status codes](https://en.wikipedia.org/wiki/List_of_HTTP_status_codes).\n"
   ]
  },
  {
   "cell_type": "code",
   "execution_count": 196,
   "metadata": {},
   "outputs": [],
   "source": [
    "# importing libraries moved to section 'putting all together'"
   ]
  },
  {
   "cell_type": "code",
   "execution_count": 184,
   "metadata": {
    "id": "9baoMWgIcK3E"
   },
   "outputs": [],
   "source": [
    "# import the requests library (1 line)\n",
    "\n",
    "\n",
    "# assign the root url (without /status) to the root_url variable for ease of reference (1 line)\n",
    "\n",
    "# assign the /status endpoint to another variable called status_url (1 line)\n",
    "\n",
    "# query the /status endpoint using the get() method and store it in the req variable (1 line)\n",
    "\n",
    "# check the status_code using a condition and print appropriate messages (4 lines)\n",
    "\n",
    "\n",
    "# added solution code\n",
    "\n",
    "\n",
    "# root_url = \"https://country-leaders.herokuapp.com\"\n",
    "# status_url = \"/status\"\n",
    "\n",
    "# req = requests.get(root_url + status_url)\n",
    "\n",
    "\n",
    "# if req.status_code == 200:\n",
    "#     print(req.text)\n",
    "# else:\n",
    "#     print(req.status_code)\n",
    "\n"
   ]
  },
  {
   "cell_type": "markdown",
   "metadata": {
    "id": "TL72ovJUcZTA"
   },
   "source": [
    "### Dealing with JSON\n",
    "\n",
    "[JSON](https://quickref.me/json) is the preferred format to deal with data over the web. You cannot avoid it so you would better get acquainted.\n",
    "\n",
    "Connect to another endpoint called `/countries` but this time the API will return data in the JSON format. Check what to do in the Requests [Quickstart](https://requests.readthedocs.io/en/latest/user/quickstart/).\n"
   ]
  },
  {
   "cell_type": "code",
   "execution_count": 185,
   "metadata": {
    "id": "Y0DLiYCWcg5W"
   },
   "outputs": [],
   "source": [
    "# Set the country_url variable (1 line)\n",
    "\n",
    "# query the /country endpoint using the get() method and store it in the req variable (1 line)\n",
    "\n",
    "# Get the JSON content and store it in the countries variable (1 line)\n",
    "\n",
    "# display the request's status code and the countries variable (1 line)\n",
    "\n",
    "\n",
    "# added solution code\n",
    "\n",
    "# country_url = root_url + \"/countries\"\n",
    "\n",
    "# req = requests.get(country_url)\n",
    "# countries = req.json\n",
    "\n",
    "# print(countries)\n",
    "# print(req.status_code)\n"
   ]
  },
  {
   "cell_type": "markdown",
   "metadata": {
    "id": "1x25JA6vaRBi"
   },
   "source": [
    "### Cookies anyone?\n",
    "\n",
    "It looks like the access to this API is restricted...\n",
    "Query the `/cookie` endpoint and extract the appropriate field to access your cookie.\n",
    "\n",
    "You will need to use this cookie in each of the following API requests."
   ]
  },
  {
   "cell_type": "code",
   "execution_count": 5,
   "metadata": {
    "id": "dTDwpN9Q3nk_"
   },
   "outputs": [
    {
     "name": "stdout",
     "output_type": "stream",
     "text": [
      "<RequestsCookieJar[<Cookie user_cookie=a630fd5f-9024-4c2c-9419-4392c95bbdd1 for country-leaders.herokuapp.com/>]>\n"
     ]
    }
   ],
   "source": [
    "# Set the cookie_url variable (1 line)\n",
    "\n",
    "# Query the enpoint, set the cookies variable and display it (3 lines)\n",
    "\n",
    "\n",
    "# added solution code\n",
    "\n",
    "# cookie_url = root_url + \"/cookie\"\n",
    "\n",
    "# req = requests.get(cookie_url)\n",
    "# cookies=req.cookies\n",
    "\n",
    "# print(cookies)\n"
   ]
  },
  {
   "cell_type": "markdown",
   "metadata": {
    "id": "DHBNaFJo2M9e"
   },
   "source": [
    "Try to query the countries endpoint using the cookie, save the output and print it."
   ]
  },
  {
   "cell_type": "code",
   "execution_count": 6,
   "metadata": {
    "id": "9Y63sTXY7ppT"
   },
   "outputs": [
    {
     "name": "stdout",
     "output_type": "stream",
     "text": [
      "200\n",
      "[\"ru\",\"be\",\"us\",\"ma\",\"fr\"]\n"
     ]
    }
   ],
   "source": [
    "# query the /countries endpoint, assign the output to the countries variable (1 line)\n",
    "\n",
    "# and check the status code and the countries variable's content (3 lines)\n",
    "\n",
    "\n",
    "# added solution code\n",
    "\n",
    "# req = requests.get(cookie_url)\n",
    "# cookies=req.cookies\n",
    "\n",
    "# countries = requests.get(country_url, cookies = cookies)\n",
    "# print(countries.status_code)   \n",
    "\n",
    "# print(countries.text)"
   ]
  },
  {
   "cell_type": "markdown",
   "metadata": {
    "id": "I3HmuGTT9lU1"
   },
   "source": [
    "Chances are the cookie has expired... Thanksfully, you got a nice error message. For now, simply execute the last 2 cells quickly so you get a result."
   ]
  },
  {
   "cell_type": "markdown",
   "metadata": {
    "id": "Egv40GBV8rSH"
   },
   "source": [
    "### Getting the actual data from the API\n",
    "\n",
    "Query the `/leaders` endpoint."
   ]
  },
  {
   "cell_type": "code",
   "execution_count": 8,
   "metadata": {
    "id": "ZwLFqcBA8PaD"
   },
   "outputs": [
    {
     "name": "stdout",
     "output_type": "stream",
     "text": [
      "{\"message\":\"The cookie is missing\"}\n"
     ]
    }
   ],
   "source": [
    "# query the /leaders endpoint, assign the output to the leaders variable (1 line)\n",
    "\n",
    "# and check its content (4 lines)\n",
    "\n",
    "# added solution code\n",
    "\n",
    "# leader = requests.get(root_url + \"/leaders\")\n",
    "\n",
    "# content_leaders = leader.text\n",
    "# print(content_leaders)\n"
   ]
  },
  {
   "cell_type": "markdown",
   "metadata": {
    "id": "1QyM7vWBAlY4"
   },
   "source": [
    "It looks like this endpoint requires additional information in order to return its result. Check the API [*documentation*](https://country-leaders.herokuapp.com/docs) in your web browser.\n",
    "\n",
    "Change the query to accept *parameters*. You should know where to find help by now."
   ]
  },
  {
   "cell_type": "code",
   "execution_count": 123,
   "metadata": {
    "id": "gIEFBhBeAkzf"
   },
   "outputs": [],
   "source": [
    "# Set the leaders_url variable (1 line)\n",
    "\n",
    "# query the /leaders endpoint using cookies and parameters (take any country in countries)\n",
    "# check the result (3 lines) \n",
    "\n",
    "\n",
    "# added solution code\n",
    "\n",
    "# req = requests.get(cookie_url)\n",
    "# cookies=req.cookies\n",
    "\n",
    "# params = {'country': 'us', 'country': 'fr', 'country': 'ma', 'country': 'ru', 'country': 'be'}\n",
    "# leaders_url = root_url + \"/leaders\"\n",
    "\n",
    "# req = requests.get(leaders_url, cookies =cookies, params = params)\n",
    "\n",
    "# should be uncomment to display the result\n",
    "#print(req.content)\n"
   ]
  },
  {
   "cell_type": "markdown",
   "metadata": {
    "id": "uW3k5uquCirA"
   },
   "source": [
    "### A sneak peak at the data (finally)\n",
    "\n",
    "Look inside a few examples. Notice the dictionary keys available for each entry. You have your first example of *structured data*. This data was sanitized for your benefit, meaning it is readily exploitable without modification.\n",
    "\n",
    "You will also notice there is a Wikipedia link for each entry. You will need to extract additional information there. This will be a case of *semi-structured* data.\n",
    "\n",
    "The /countries endpoint returns a `list` of several country codes.\n",
    "\n",
    "You need to loop through this list and query the /leaders endpoint for each one. Save each entry in a dictionary called `leaders_per_country` like this one: \n",
    "`{'fr':[{leader0}, {leader1},...],\n",
    "'en':[{leader0}, {leader1},...],\n",
    "...\n",
    "}`."
   ]
  },
  {
   "cell_type": "code",
   "execution_count": 124,
   "metadata": {
    "id": "H8EdK2S9rvPJ"
   },
   "outputs": [],
   "source": [
    "# 5 lines\n",
    "\n",
    "# added solution code\n",
    "# req = requests.get(cookie_url)\n",
    "# cookies=req.cookies\n",
    "\n",
    "# req_countries = requests.get(country_url, cookies = cookies)\n",
    "# countries = req_countries.text \n",
    "\n",
    "# leaders_url = root_url + \"/leaders\"\n",
    "\n",
    "\n",
    "# leaders_per_country = {}\n",
    "# countries = countries.strip('[, ]')\n",
    "# countries = countries.split(\",\")\n",
    "\n",
    "\n",
    "\n",
    "# for country in countries:   \n",
    "#     country = country.replace('\\\"', '')\n",
    "#     param = {'country': country}\n",
    "#     req_leaders = requests.get(leaders_url, cookies =cookies, params = param)\n",
    "#     content = req_leaders.text\n",
    "#     leaders_per_country[country] = content  \n",
    "    \n",
    "    \n",
    "# should be uncomment to display the result\n",
    "# print(leaders_per_country)\n",
    "   \n",
    "    "
   ]
  },
  {
   "cell_type": "markdown",
   "metadata": {
    "id": "WsA2j7s_RMgy"
   },
   "source": [
    "It is finally time to create a `get_leaders()` function for the above code. You will build on it later-on. This function takes no parameter. Inside it, you will need to:\n",
    "1. define the urls\n",
    "2. get the cookies\n",
    "2. get the countries\n",
    "3. loop over them and save their leaders in a dictionary\n",
    "4. return the dictionary"
   ]
  },
  {
   "cell_type": "code",
   "execution_count": 186,
   "metadata": {
    "id": "p6C7BgWQMxV2"
   },
   "outputs": [],
   "source": [
    "# 15 lines\n",
    "\n",
    "# added solution code\n",
    "\n",
    "# def get_leaders():\n",
    "#     root_url = \"https://country-leaders.herokuapp.com\"\n",
    "#     cookie_url = root_url + \"/cookie\"\n",
    "#     country_url = root_url + \"/countries\"\n",
    "#     leaders_url = root_url + \"/leaders\"\n",
    "\n",
    "#     req_cookies = requests.get(cookie_url)\n",
    "#     cookies=req_cookies.cookies\n",
    "   \n",
    "#     req_countries = requests.get(country_url, cookies = cookies)\n",
    "#     countries = req_countries.text\n",
    "# #     print(countries)\n",
    "#     countries = countries.strip('[, ]')\n",
    "#     countries = countries.split(\",\")\n",
    "# #     print(countries)\n",
    "    \n",
    "#     leaders_per_country = {}\n",
    "#     for country in countries:\n",
    "#         country = country.replace('\\\"', \"\")\n",
    "#         print(country)\n",
    "#         param = {'country': country}\n",
    "#         req_leaders = requests.get(leaders_url, cookies =cookies, params = param)\n",
    "#         content = req_leaders.text\n",
    "#         leaders_per_country[country] = content\n",
    "        \n",
    "#     return leaders_per_country\n",
    "\n",
    "\n",
    "# leaders_per_country = get_leaders()\n",
    "# keys = leaders_per_country.keys()\n",
    "# for k in keys:\n",
    "#     print(k)\n",
    "\n",
    "\n",
    "# should be uncomment to display the result\n",
    "# print(leaders_per_country)"
   ]
  },
  {
   "cell_type": "markdown",
   "metadata": {
    "id": "I76-InoKuuV8"
   },
   "source": [
    "Test your function, save the result in the `leaders_per_country` dictionary and check its ouput."
   ]
  },
  {
   "cell_type": "code",
   "execution_count": null,
   "metadata": {
    "id": "eXwd8o7Gu8yG"
   },
   "outputs": [],
   "source": [
    "# 2 lines\n",
    "# leaders_per_country = get_leaders(\"\")\n",
    "# comparison data for assert.Equal????\n",
    "\n"
   ]
  },
  {
   "cell_type": "markdown",
   "metadata": {
    "id": "D1Fc1mHySn9g"
   },
   "source": [
    "## Extracting data from Wikipedia\n",
    "\n",
    "Query one of the leaders' Wikipedia urls and display its `text` (not JSON)."
   ]
  },
  {
   "cell_type": "code",
   "execution_count": 126,
   "metadata": {
    "id": "cEKKqyTHr3fD"
   },
   "outputs": [],
   "source": [
    "# 3 lines\n",
    "\n",
    "# added solution code\n",
    "#\"https://nl.wikipedia.org/wiki/Guy_Verhofstadt\"\n",
    "# leader_url = \"https://en.wikipedia.org/wiki/Barack_Obama\"\n",
    "\n",
    "# be_leader_1 = requests.get(leader_url)\n",
    "# content = be_leader_1.text\n",
    "\n",
    "# should be uncomment to display the content\n",
    "#print(content)\n",
    "\n"
   ]
  },
  {
   "cell_type": "markdown",
   "metadata": {
    "id": "ZlsqjiTYr8sK"
   },
   "source": [
    "Ouch! You get the raw HTML code of the webpage. If you try to deal with it without tools, you will be there all night. Instead, use the [beautiful soup 4](https://www.crummy.com/software/BeautifulSoup/bs4/doc/) *external* library. You will find more info about it [here](../../2.python/2.python_advanced/05.Scraping/1.beautifulsoup_basic.ipynb) and [here](../../2.python/2.python_advanced/05.Scraping/2.beautifulsoup_advanced.ipynb)\n",
    "\n",
    "Using the Quickstart section, start by importing the library and loading the output of your `get_text()` function.\n",
    "\n",
    "Use the `prettify()` function to take a look. You will start the actual parsing in the next step."
   ]
  },
  {
   "cell_type": "code",
   "execution_count": 187,
   "metadata": {
    "id": "h79ahwJvr7p-"
   },
   "outputs": [],
   "source": [
    "# 3 lines\n",
    "\n",
    "# added solution code\n",
    "\n",
    "\n",
    "# soup = bs(content, 'html')\n",
    "\n",
    "\n",
    "# paragraphs = []\n",
    "# first_paragraph_index = 0\n",
    "# i = 0\n",
    "# found = False\n",
    "# for paragraph in soup.find_all(\"p\"):     \n",
    "#     if paragraph.find('b') != None and not found:\n",
    "#         first_paragraph_index = i\n",
    "#         found=True        \n",
    "#         print(\"bold text found at paragraph index \" + str(first_paragraph_index))        \n",
    "#     paragraphs.append(paragraph.get_text())\n",
    "#     i += 1\n",
    "\n",
    "# first_paragraph = paragraphs[first_paragraph_index]\n",
    "\n",
    "# # print(soup.title)\n",
    "# # print(soup.title.name)\n",
    "# # print(soup.title.string)\n",
    "# # print(soup.p)\n",
    "    \n",
    "# print(str(len(paragraphs)) + \"  paragraphs found \\nAnd first paragraph... \\n\" + first_paragraph)\n",
    "    "
   ]
  },
  {
   "cell_type": "markdown",
   "metadata": {
    "id": "aQsLjaig7_dY"
   },
   "source": [
    "That looks better but you need to extract the right part of the webpage: the text of the first paragraph.\n",
    "\n",
    "It is a bit tricky because Wikipedia pages slightly differ in structure from one language to the next. We cannot simply get the text for the first HTML paragraph.\n",
    "\n",
    "You will start by getting all the HTML paragraphs from the HTML source and saving them in the `paragraphs` variable.\n",
    "\n",
    "Use the documentation or google the appropriate keywords."
   ]
  },
  {
   "cell_type": "code",
   "execution_count": 188,
   "metadata": {
    "id": "Vs8HeBx19oyC"
   },
   "outputs": [],
   "source": [
    "# 2 lines\n",
    "\n",
    "# added solution code\n",
    "# paragraphs = []\n",
    "# for paragraph in soup.find_all(\"p\"):\n",
    "#     paragraphs.append(paragraph.text)\n",
    "    \n",
    "# print(paragraphs[first_paragraph_index])\n",
    "    \n",
    "\n"
   ]
  },
  {
   "cell_type": "markdown",
   "metadata": {
    "id": "3tlaL3aM9zoo"
   },
   "source": [
    "If you try different urls, you might find that the paragraph you want may be at a different index each time.\n",
    "\n",
    "That is where you need to be clever and ask yourself what would be a reliable way to identify the right index ie. which string matches only the first paragraph whatever the language...\n",
    "\n",
    "Spend a good 30 minutes on the problem and brainstorm with your fellow learners. If you come out empty handed, ask your coach.\n",
    "\n",
    "1. Loop over the HTML paragraphs\n",
    "2. When you have identified the correct one\n",
    "  * store the [text](https://www.crummy.com/software/BeautifulSoup/bs4/doc/#output) inside the `first_paragraph` variable\n",
    "  * exit the loop"
   ]
  },
  {
   "cell_type": "code",
   "execution_count": 189,
   "metadata": {
    "id": "0DduDXaQALau"
   },
   "outputs": [],
   "source": [
    "# 6 lines\n",
    "# added solution code   \n",
    "# paragraphs = []\n",
    "# for paragraph in soup.find_all(\"p\"):\n",
    "#     paragraphs.append(paragraph.text)\n",
    "    \n",
    "# first_paragraph = paragraphs[first_paragraph_index]\n",
    "# print(first_paragraph)"
   ]
  },
  {
   "cell_type": "markdown",
   "metadata": {
    "id": "KFe-1LlIHBGm"
   },
   "source": [
    "At this stage, you can create a function to maintain consistency in your code. We will give you its *skeleton*, you will copy the code you wrote and make it work inside a function.\n",
    "\n",
    "Don't forget to test your function."
   ]
  },
  {
   "cell_type": "code",
   "execution_count": 190,
   "metadata": {
    "id": "wQORoweDHARO"
   },
   "outputs": [],
   "source": [
    "# 10 lines\n",
    "# def get_first_paragraph(wikipedia_url):\n",
    "#   print(wikipedia_url) # keep this for the rest of the notebook\n",
    "#   [insert your code]\n",
    "#   return first_paragraph\n",
    "\n",
    "# # added solution code\n",
    "# def get_first_paragraph(wikipedia_url):\n",
    "#     print(wikipedia_url)\n",
    "#     req= requests.get(wikipedia_url)\n",
    "#     content = req.text\n",
    "#     soup = bs(content, 'html') \n",
    "    \n",
    "#     paragraphs = soup.find_all('p')\n",
    "#     first_paragraph_index = 0\n",
    "#     i = 0\n",
    "#     for paragraph in soup.find_all(\"p\"):   \n",
    "#         if paragraph.find('b') != None:\n",
    "#             first_paragraph_index = i            \n",
    "#             break\n",
    "#         i+=1\n",
    "        \n",
    "#     first_paragraph = paragraphs[first_paragraph_index].get_text()\n",
    "#     return first_paragraph\n",
    "\n",
    "# wikipedia_url = leader_url\n",
    "# paragraph = get_first_paragraph(wikipedia_url)\n",
    "# print(paragraph)\n",
    "    "
   ]
  },
  {
   "cell_type": "markdown",
   "metadata": {
    "id": "UtoM4dgsBVoD"
   },
   "source": [
    "### Regular expressions to the rescue\n",
    "\n",
    "Now that you have extracted the content of the first paragraph, the only thing that remains to finish your Wikipedia scraper is to sanitize the output.\n",
    "\n",
    "Indeed some Wikipedia references, HTML code, phonetic pronunciation etc. may linger. You might find *regular expressions* handy to get rid of them and obtain pristine text. You will find some useful documentation about regular expressions [here](../../2.python/2.python_advanced/03.Regex/regex.ipynb)\n",
    "\n",
    "Once you have one of your regex working online, try it in the cell below. \n",
    "\n",
    "Hints: \n",
    "* Check the `sub()` method documentation.\n",
    "* Make sure to test urls in different languages. Some may look good but other do not."
   ]
  },
  {
   "cell_type": "code",
   "execution_count": 94,
   "metadata": {},
   "outputs": [],
   "source": []
  },
  {
   "cell_type": "code",
   "execution_count": null,
   "metadata": {
    "id": "7DHEAb6oBUxd"
   },
   "outputs": [],
   "source": [
    "# 4 lines\n"
   ]
  },
  {
   "cell_type": "markdown",
   "metadata": {
    "id": "QekqWs-4E0bK"
   },
   "source": [
    "Overwrite the `get_first_paragraph()` function by applying your regex to the first paragraph before returning it."
   ]
  },
  {
   "cell_type": "code",
   "execution_count": 191,
   "metadata": {
    "id": "voT-jzd7FMOc"
   },
   "outputs": [],
   "source": [
    "# 10 lines\n",
    "\n",
    "# added solution code\n",
    "# def get_first_paragraph(wikipedia_url):\n",
    "#     print(wikipedia_url)\n",
    "#     req= requests.get(wikipedia_url)\n",
    "#     content = req.text\n",
    "#     soup = bs(content, 'html')\n",
    "    \n",
    "#     #remove all the text link\n",
    "#     for a in soup.findAll('a', href=True):\n",
    "#         a.extract()\n",
    "        \n",
    "#     paragraphs = soup.find_all('p')\n",
    "#     first_paragraph_index = 0\n",
    "#     i = 0\n",
    "#     for paragraph in soup.find_all(\"p\"):   \n",
    "#         if paragraph.find('b') != None:\n",
    "#             first_paragraph_index = i            \n",
    "#             break\n",
    "#         i+=1\n",
    "        \n",
    "#     first_paragraph = paragraphs[first_paragraph_index].text\n",
    "#     first_paragraph = re.sub(r'[();{}[\\]]+', \"\", first_paragraph)\n",
    "#     return first_paragraph\n",
    "\n",
    "# wikipedia_url = leader_url\n",
    "# paragraph = get_first_paragraph(wikipedia_url)\n",
    "# print(paragraph)\n",
    "\n",
    "# Barack Hussein Obama II (/bəˈrɑːk huːˈseɪn oʊˈbɑːmə/ (listen) bə-RAHK hoo-SAYN oh-BAH-mə;[1] born August 4, 1961) is\n",
    "# an American politician who served as the 44th president of the United States from 2009 to 2017. A member of the Democratic\n",
    "# Party, he was the first African-American  president of the United States.[2] Obama previously served as a U.S. senator from \n",
    "# Illinois from 2005 to 2008 and as an Illinois state senator from 1997 to 2004. \n"
   ]
  },
  {
   "cell_type": "markdown",
   "metadata": {
    "id": "gyZkffTEFR0z"
   },
   "source": [
    "Come up with other regexes to capture other patterns and sanitize the outputs completely. Modify your `get_first_paragraph()` function accordingly."
   ]
  },
  {
   "cell_type": "code",
   "execution_count": 192,
   "metadata": {
    "id": "NOmkLM9JFRCp"
   },
   "outputs": [],
   "source": [
    "# < 20 lines\n",
    "# added solution code\n",
    "# def get_first_paragraph(wikipedia_url):\n",
    "#     print(wikipedia_url)\n",
    "#     req= requests.get(wikipedia_url)\n",
    "#     content = req.text\n",
    "#     soup = bs(content, 'html')\n",
    "    \n",
    "#     #remove all the text link\n",
    "#     for a in soup.findAll('a', href=True):\n",
    "#         a.extract()\n",
    "        \n",
    "#     paragraphs = soup.find_all('p')\n",
    "#     first_paragraph_index = 0\n",
    "#     i = 0\n",
    "#     for paragraph in soup.find_all(\"p\"):   \n",
    "#         if paragraph.find('b') != None:\n",
    "#             first_paragraph_index = i            \n",
    "#             break\n",
    "#         i+=1\n",
    "  \n",
    "#     first_paragraph = paragraphs[first_paragraph_index].text\n",
    "#     first_paragraph = re.sub(r'[();{}[\\]]+', \"\", first_paragraph)\n",
    "#     sanitized_paragraph = ' '.join(first_paragraph.strip().split())\n",
    "#     sanitized_paragraph = re.sub(r'II', 'II,',sanitized_paragraph)\n",
    "   \n",
    "#     return sanitized_paragraph\n",
    "\n",
    "# wikipedia_url = leader_url\n",
    "# paragraph = get_first_paragraph(wikipedia_url)\n",
    "# print(paragraph)\n"
   ]
  },
  {
   "cell_type": "markdown",
   "metadata": {
    "id": "L9XUdX38V9XT"
   },
   "source": [
    "### Caching\n",
    "Good job! This function will be called many times. First because there are many leaders to loop through. Second because you are developing your code and are likely to re-run your loop multiple times. Third because the API might change and contain new leaders and you might want to update your data periodically.\n",
    "\n",
    "For all these reasons, it can be benificial to *cache* the result of the `get_first_paragraph()` function so that if it called with the same parameter, you expect the same output and thus do not need to query Wikipedia another time.\n",
    "\n",
    "You will use the [lru_cache](https://docs.python.org/3/library/functools.html#functools.lru_cache) decorator from the `functools` module. It is a tiny code change that will speed things up big time. You can use a `maxsize` of None. If you have questions about decorators, you will find more information [here](../../2.python/2.python_advanced/07.Decorator/decorators.ipynb)"
   ]
  },
  {
   "cell_type": "code",
   "execution_count": 193,
   "metadata": {
    "id": "qZfm-vFDXqi0"
   },
   "outputs": [],
   "source": [
    "# < 20 lines\n",
    "\n",
    "# added solution code\n",
    "\n",
    "# @lru_cache(maxsize = 128)\n",
    "# def get_first_paragraph_withCashWrapper(wikipedia_url):\n",
    "#     print(wikipedia_url)\n",
    "#     req= requests.get(wikipedia_url)\n",
    "#     content = req.text\n",
    "#     soup = bs(content, 'html')\n",
    "    \n",
    "#     #remove all the text link\n",
    "#     for a in soup.findAll('a', href=True):\n",
    "#         a.extract()\n",
    "        \n",
    "#     paragraphs = soup.find_all('p')\n",
    "#     first_paragraph_index = 0\n",
    "#     i = 0\n",
    "#     for paragraph in soup.find_all(\"p\"):   \n",
    "#         if paragraph.find('b') != None:\n",
    "#             first_paragraph_index = i            \n",
    "#             break\n",
    "#         i+=1\n",
    "        \n",
    "#     first_paragraph = paragraphs[first_paragraph_index].text\n",
    "#     first_paragraph = re.sub(r'[();{}[\\]]+', \"\", first_paragraph)\n",
    "#     sanitized_paragraph = ' '.join(first_paragraph.strip().split())\n",
    "#     sanitized_paragraph = re.sub(r'II', 'II,',sanitized_paragraph)\n",
    "   \n",
    "#     return sanitized_paragraph\n",
    "\n"
   ]
  },
  {
   "cell_type": "markdown",
   "metadata": {
    "id": "3DlE7uy2YvWN"
   },
   "source": [
    "Let's check the speedup!"
   ]
  },
  {
   "cell_type": "code",
   "execution_count": 133,
   "metadata": {
    "id": "U46cCemPYhiG"
   },
   "outputs": [
    {
     "name": "stdout",
     "output_type": "stream",
     "text": [
      "https://en.wikipedia.org/wiki/Barack_Obama\n",
      "https://en.wikipedia.org/wiki/Barack_Obama\n",
      "https://en.wikipedia.org/wiki/Barack_Obama\n",
      "https://en.wikipedia.org/wiki/Barack_Obama\n",
      "https://en.wikipedia.org/wiki/Barack_Obama\n",
      "https://en.wikipedia.org/wiki/Barack_Obama\n",
      "https://en.wikipedia.org/wiki/Barack_Obama\n",
      "https://en.wikipedia.org/wiki/Barack_Obama\n",
      "979 ms ± 74.7 ms per loop (mean ± std. dev. of 7 runs, 1 loop each)\n"
     ]
    }
   ],
   "source": [
    "%%timeit\n",
    "# Just run the cell. \n",
    "get_first_paragraph(wikipedia_url)"
   ]
  },
  {
   "cell_type": "code",
   "execution_count": 134,
   "metadata": {},
   "outputs": [
    {
     "name": "stdout",
     "output_type": "stream",
     "text": [
      "https://en.wikipedia.org/wiki/Barack_Obama\n",
      "The slowest run took 12.75 times longer than the fastest. This could mean that an intermediate result is being cached.\n",
      "1.11 µs ± 1.63 µs per loop (mean ± std. dev. of 7 runs, 1 loop each)\n"
     ]
    }
   ],
   "source": [
    "%%timeit\n",
    "# Just run the cell. \n",
    "get_first_paragraph_withCashWrapper(wikipedia_url)\n"
   ]
  },
  {
   "cell_type": "markdown",
   "metadata": {
    "id": "VY7bM7Z1Nr0K"
   },
   "source": [
    "## Putting it all together\n",
    "\n",
    "Let's go back to your `get_leaders()` function and update it with an *inner* loop over each leader. You will query the url provided and extract the first paragraph using the `get_first_paragraph()` function you just finished. You will then update that `leader`'s dictionary and move on to the next one.\n",
    "\n",
    "Notice, the rest of the code should not change since you modify the leader's data one by one."
   ]
  },
  {
   "cell_type": "code",
   "execution_count": 2,
   "metadata": {},
   "outputs": [],
   "source": [
    "import requests\n",
    "from bs4 import BeautifulSoup as bs\n",
    "import re\n",
    "from functools import lru_cache"
   ]
  },
  {
   "cell_type": "code",
   "execution_count": 3,
   "metadata": {
    "id": "Dx7kAGa6OoS5"
   },
   "outputs": [],
   "source": [
    "# 19 lines\n",
    "\n",
    "\n",
    "# added solution code\n",
    "\n",
    "# def get_leaders():\n",
    "#     root_url = \"https://country-leaders.herokuapp.com\"\n",
    "#     cookie_url = root_url + \"/cookie\"\n",
    "#     country_url = root_url + \"/countries\"\n",
    "#     leaders_url = root_url + \"/leaders\"\n",
    "\n",
    "#     req_cookies = requests.get(cookie_url)\n",
    "#     cookies=req_cookies.cookies\n",
    "   \n",
    "#     req_countries = requests.get(country_url, cookies = cookies)\n",
    "#     countries = req_countries.text\n",
    "#     print(countries)\n",
    "#     countries = countries.strip('[, ]')\n",
    "#     countries = countries.split(\",\")\n",
    "  \n",
    "    \n",
    "#     leaders_per_country = {}\n",
    "#     for country in countries:\n",
    "#         country = country.replace('\\\"', \"\")\n",
    "#         param = {'country': country}\n",
    "#         req_leaders = requests.get(leaders_url, cookies =cookies, params = param)\n",
    "#         content = req_leaders.text    \n",
    "#         content = content.strip('[, ]')\n",
    "#         list_leaders_currentcountry = content.split('}')\n",
    "#         print(\".......... \\nleaders info started here \\n\")\n",
    "#         for leader_info in list_leaders_currentcountry:\n",
    "#             leader_info_clean = leader_info.strip('{, }')\n",
    "#             list_leader_info = leader_info_clean.split(',')\n",
    "#             leader_name = \"\"\n",
    "#             leader_fname = \"\"\n",
    "#             leader_lname = \"\"\n",
    "#             wiki_url = \"\"\n",
    "            \n",
    "#             for info in list_leader_info:                \n",
    "#                 if 'wikipedia' in info:\n",
    "#                     wiki_split = info.split(':')\n",
    "#                     wiki_url = (wiki_split[1] + wiki_split[2]).replace(\"\\\"\", \"\")\n",
    "#                 elif \"first_name\" in info:\n",
    "#                     leader_fname = info.split(':')[1].replace(\"\\\"\", \"\")\n",
    "                    \n",
    "#                 elif \"last_name\" in info:\n",
    "#                     leader_lname = info.split(':')[1].replace(\"\\\"\", \"\")\n",
    "                    \n",
    "                \n",
    "#                 if leader_fname == \"\" or leader_lname == \"\" or wiki_url == \"\":\n",
    "#                     continue\n",
    "#                 else:\n",
    "#                     leader_name = leader_fname + \" \" + leader_lname\n",
    "#                     break\n",
    "                    \n",
    "#             print(leader_name)\n",
    "#             print(wiki_url)\n",
    "#             first_paragraph = get_first_paragraph_withCashWrapper(wiki_url)           \n",
    "#     leaders_per_country = get_leaders()\n",
    "    \n"
   ]
  },
  {
   "cell_type": "code",
   "execution_count": 4,
   "metadata": {
    "id": "RICG4T3DPZ1b"
   },
   "outputs": [],
   "source": [
    "# Check the output of your function (2 lines)\n"
   ]
  },
  {
   "cell_type": "markdown",
   "metadata": {
    "id": "8sCKxGrnJCxv"
   },
   "source": [
    "Does the function crash in the middle of the loop? Chances are the cookies have expired while looping over the leaders.\n",
    "\n",
    "Modify your function to check if the `status_code` is a cookie error. In which case, get new ones and query the api again.\n",
    "\n",
    "If not, you may have a fast connection or a bit of luck. Do it anyway."
   ]
  },
  {
   "cell_type": "code",
   "execution_count": 5,
   "metadata": {
    "id": "rgPd2dxgJiW1"
   },
   "outputs": [],
   "source": [
    "# 22 lines\n",
    "\n",
    "# added solution code\n",
    "\n",
    "# def get_leaders():\n",
    "#     root_url = \"https://country-leaders.herokuapp.com\"\n",
    "#     cookie_url = root_url + \"/cookie\"\n",
    "#     country_url = root_url + \"/countries\"\n",
    "#     leaders_url = root_url + \"/leaders\"\n",
    "\n",
    "#     req_cookies = requests.get(cookie_url)\n",
    "#     cookies=req_cookies.cookies\n",
    "   \n",
    "#     req_countries = requests.get(country_url, cookies = cookies)\n",
    "#     countries = req_countries.text\n",
    "#     print(countries)\n",
    "#     countries = countries.strip('[, ]')\n",
    "#     countries = countries.split(\",\")    \n",
    "    \n",
    "#     leaders_per_country = {}\n",
    "#     for country in countries:\n",
    "#         country = country.replace('\\\"', \"\")\n",
    "#         param = {'country': country}\n",
    "        \n",
    "#         req_leaders = requests.get(leaders_url, cookies =cookies, params = param)\n",
    "        \n",
    "#         if req_leaders.status_code == 403:\n",
    "#             cookies=req_cookies.cookies\n",
    "#             req_leaders = requests.get(leaders_url, cookies =cookies, params = param)\n",
    "            \n",
    "#         content = req_leaders.text    \n",
    "#         content = content.strip('[, ]')\n",
    "#         list_leaders_currentcountry = content.split('}')\n",
    "#         print(\".......... \\nleaders info started here \\n\")\n",
    "#         for leader_info in list_leaders_currentcountry:\n",
    "#             leader_info_clean = leader_info.strip('{, }')\n",
    "#             list_leader_info = leader_info_clean.split(',')\n",
    "#             leader_name = \"\"\n",
    "#             leader_fname = \"\"\n",
    "#             leader_lname = \"\"\n",
    "#             wiki_url = \"\"\n",
    "            \n",
    "#             for info in list_leader_info:                \n",
    "#                 if 'wikipedia' in info:\n",
    "#                     wiki_split = info.split(':')\n",
    "#                     wiki_url = (wiki_split[1] + wiki_split[2]).replace(\"\\\"\", \"\")\n",
    "#                 elif \"first_name\" in info:\n",
    "#                     leader_fname = info.split(':')[1].replace(\"\\\"\", \"\")\n",
    "                    \n",
    "#                 elif \"last_name\" in info:\n",
    "#                     leader_lname = info.split(':')[1].replace(\"\\\"\", \"\")\n",
    "                    \n",
    "                \n",
    "#                 if leader_fname == \"\" or leader_lname == \"\" or wiki_url == \"\":\n",
    "#                     continue\n",
    "#                 else:\n",
    "#                     leader_name = leader_fname + \" \" + leader_lname\n",
    "#                     break\n",
    "#             print(leader_name)\n",
    "#             print(wiki_url)\n",
    "#             first_paragraph = get_first_paragraph_withCashWrapper(wiki_url)            \n",
    "#             break\n",
    "            \n",
    "#         break\n",
    "    \n",
    "    \n"
   ]
  },
  {
   "cell_type": "markdown",
   "metadata": {
    "id": "3JvV-kPsKLl0"
   },
   "source": [
    "Check the output of your function again."
   ]
  },
  {
   "cell_type": "code",
   "execution_count": null,
   "metadata": {
    "id": "mPXT-cxgKQof"
   },
   "outputs": [],
   "source": [
    "%%time\n",
    "# Check the output of your function (1 line)\n"
   ]
  },
  {
   "cell_type": "markdown",
   "metadata": {
    "id": "Y9lgxh_NMSO3"
   },
   "source": [
    "Well done! It took a while however... Let's speed things up. The main *bottleneck* is the loop. We call on the Wikipedia website many times.\n",
    "\n",
    "You will use the same *session* to call all the wikipedia pages. Check the *Advanced Usage* section of the Requests module's documentation.\n",
    "\n",
    "Start by modifying the `get_first_paragraph()` function to accept a session parameter and adjust the `get()` method call."
   ]
  },
  {
   "cell_type": "code",
   "execution_count": 6,
   "metadata": {
    "id": "XTEVLIJ-V7z1"
   },
   "outputs": [],
   "source": [
    "# <20 lines\n",
    "\n",
    "# added solution code\n",
    "\n",
    "# @lru_cache(maxsize = 128)\n",
    "# def get_first_paragraph_withCashWrapper(wikipedia_url, session_param):\n",
    "#     print(wikipedia_url)\n",
    "#     req= session_param.get(wikipedia_url) # requests changed by session_param\n",
    "#     content = req.text\n",
    "#     soup = bs(content, 'html')\n",
    "    \n",
    "#     #remove all the text link\n",
    "#     for a in soup.findAll('a', href=True):\n",
    "#         a.extract()\n",
    "        \n",
    "#     paragraphs = soup.find_all('p')\n",
    "#     first_paragraph_index = 0\n",
    "#     i = 0\n",
    "#     for paragraph in soup.find_all(\"p\"):   \n",
    "#         if paragraph.find('b') != None:\n",
    "#             first_paragraph_index = i            \n",
    "#             break\n",
    "#         i+=1\n",
    "        \n",
    "#     first_paragraph = paragraphs[first_paragraph_index].text\n",
    "#     first_paragraph = re.sub(r'[();{}[\\]]+', \"\", first_paragraph)\n",
    "#     sanitized_paragraph = ' '.join(first_paragraph.strip().split())\n",
    "#     sanitized_paragraph = re.sub(r'II', 'II,',sanitized_paragraph)\n",
    "   \n",
    "#     return sanitized_paragraph\n",
    "\n"
   ]
  },
  {
   "cell_type": "markdown",
   "metadata": {
    "id": "3gcgHMkeWK5-"
   },
   "source": [
    "Modify your `get_leaders()` function to make use of a single session for all the Wikipedia calls.\n",
    "1. create a `Session` object outside of the loop over countries.\n",
    "2. pass it to the `get_first_paragraph()` function as an argument."
   ]
  },
  {
   "cell_type": "code",
   "execution_count": 30,
   "metadata": {
    "id": "Kt6JtKDpOAIe"
   },
   "outputs": [],
   "source": [
    "# 22 lines\n",
    "def get_leaders():\n",
    "    global countries\n",
    "    root_url = \"https://country-leaders.herokuapp.com\"\n",
    "    cookie_url = root_url + \"/cookie\"\n",
    "    country_url = root_url + \"/countries\"\n",
    "    leaders_url = root_url + \"/leaders\"\n",
    "\n",
    "    req_cookies = requests.get(cookie_url)\n",
    "    cookies=req_cookies.cookies\n",
    "   \n",
    "    req_countries = requests.get(country_url, cookies = cookies)\n",
    "    countries = req_countries.text\n",
    "#     print(countries)\n",
    "    \n",
    "    countries = countries.strip('[, ]')\n",
    "    countries = countries.split(\",\")    \n",
    "    \n",
    "    session = requests.Session()\n",
    "    leaders_per_country = {}\n",
    "    for country in countries:\n",
    "        country = country.replace('\\\"', \"\")\n",
    "        param = {'country': country}\n",
    "        \n",
    "        req_leaders = requests.get(leaders_url, cookies =cookies, params = param)\n",
    "        \n",
    "        if req_leaders.status_code == 403:\n",
    "            cookies=req_cookies.cookies\n",
    "            req_leaders = requests.get(leaders_url, cookies =cookies, params = param)\n",
    "            \n",
    "        content = req_leaders.text    \n",
    "        content = content.strip('[, ]')\n",
    "        list_leaders_currentcountry = content.split('}')\n",
    "#         print(\".......... \\nleaders info started here \\n\")\n",
    "        clean_leader_info_percountry = []\n",
    "        for leader_info in list_leaders_currentcountry:\n",
    "            leader_info_clean = leader_info.strip('{, }')\n",
    "            list_leader_info = leader_info_clean.split(',')\n",
    "            leader_fname = \"\"\n",
    "            leader_lname = \"\"\n",
    "            wiki_url = \"\"\n",
    "            \n",
    "            leader_info_dict={}\n",
    "            \n",
    "            for info in list_leader_info:                \n",
    "                if 'wikipedia' in info:\n",
    "                    wiki_split = info.split(':')\n",
    "                    wiki_url = (wiki_split[1] + \":\" + wiki_split[2]).replace(\"\\\"\", \"\")\n",
    "                elif \"first_name\" in info:\n",
    "                    leader_fname = info.split(':')[1].replace(\"\\\"\", \"\")\n",
    "                    \n",
    "                elif \"last_name\" in info:\n",
    "                    leader_lname = info.split(':')[1].replace(\"\\\"\", \"\")\n",
    "                    \n",
    "                \n",
    "                if leader_fname == \"\" or leader_lname == \"\" or wiki_url == \"\":\n",
    "                    continue\n",
    "                else:\n",
    "                    break #has to break out from this loop because no neet to travel to all information\n",
    "            print(leader_fname + \" \" + leader_lname + \",  \" + wiki_url)\n",
    "            #break\n",
    "            try: \n",
    "                first_paragraph = get_first_paragraph_withCashWrapper(wiki_url, session)  \n",
    "            except:\n",
    "                first_paragraph = \"Information could not be extracted. Either link not found or link has error\"\n",
    "                  \n",
    "            print(first_paragraph)\n",
    "            leader_info_dict['first_name'] = leader_fname\n",
    "            leader_info_dict['last_name'] = leader_lname\n",
    "            leader_info_dict['wikipedia_url'] = wiki_url\n",
    "            leader_info_dict['first_paragraph'] = first_paragraph\n",
    "            \n",
    "            clean_leader_info_percountry.append(leader_info_dict)\n",
    "        leaders_per_country[country] = clean_leader_info_percountry\n",
    "    return leaders_per_country        \n",
    "   \n",
    "\n"
   ]
  },
  {
   "cell_type": "markdown",
   "metadata": {
    "id": "fy09nMG9VOaI"
   },
   "source": [
    "Test your new functions.\n",
    "\n"
   ]
  },
  {
   "cell_type": "code",
   "execution_count": 210,
   "metadata": {
    "id": "p5wFE6ivRf-Z"
   },
   "outputs": [
    {
     "name": "stdout",
     "output_type": "stream",
     "text": [
      "CPU times: total: 266 ms\n",
      "Wall time: 1.48 s\n"
     ]
    }
   ],
   "source": [
    "%%time\n",
    "# Just run it.\n",
    "leaders_per_country = get_leaders()"
   ]
  },
  {
   "cell_type": "markdown",
   "metadata": {
    "id": "QVA5raJxVEtr"
   },
   "source": [
    "Using a Session makes the first call to `get_leaders()` faster however, for technical reasons, the `@lru_cache` decorator no longer works. \n",
    "\n",
    "Problem: The `session` parameter is not *hashable* and since the cache is a dictionary using all the parameters as key, this poses a problem.\n",
    "\n",
    "Solution: Create our own cache that only cares about the url.\n",
    "\n",
    "The code for this is provided. You should only read it."
   ]
  },
  {
   "cell_type": "code",
   "execution_count": 169,
   "metadata": {
    "id": "VcbiLxfaVFOq"
   },
   "outputs": [],
   "source": [
    "cache = {}\n",
    "def hashable_cache(f):\n",
    "    def inner(url, session):\n",
    "        if url not in cache:\n",
    "            cache[url] = f(url, session)\n",
    "        return cache[url]\n",
    "    return inner"
   ]
  },
  {
   "cell_type": "markdown",
   "metadata": {
    "id": "HJU9Hw8jZbV8"
   },
   "source": [
    "Overwrite the `get_first_paragraph()` function to use the new decorator like this: `@hashable_cache`.\n"
   ]
  },
  {
   "cell_type": "code",
   "execution_count": 18,
   "metadata": {
    "id": "T6FbVRw8Z3kA"
   },
   "outputs": [],
   "source": [
    "# <20 lines\n",
    "\n",
    "#@hashable_cache\n",
    "@lru_cache(maxsize = 128)\n",
    "def get_first_paragraph_withCashWrapper(wikipedia_url, session_param):\n",
    "#     print(wikipedia_url)\n",
    "    req= session_param.get(wikipedia_url) # requests changed by session_param\n",
    "    content = req.text\n",
    "    soup = bs(content, 'html')\n",
    "    \n",
    "    #remove all the text link\n",
    "    for a in soup.findAll('a', href=True):\n",
    "        a.extract()\n",
    "        \n",
    "    paragraphs = soup.find_all('p')\n",
    "    first_paragraph_index = 0\n",
    "    i = 0\n",
    "    for paragraph in soup.find_all(\"p\"):   \n",
    "        if paragraph.find('b') != None:\n",
    "            first_paragraph_index = i            \n",
    "            break\n",
    "        i+=1\n",
    "    \n",
    "    first_paragraph = paragraphs[first_paragraph_index].text\n",
    "    \n",
    "    first_paragraph = re.sub(r'[();{}[\\]]+', \"\", first_paragraph)\n",
    "    sanitized_paragraph = ' '.join(first_paragraph.strip().split())\n",
    "    sanitized_paragraph = re.sub(r'II', 'II,',sanitized_paragraph)\n",
    "   \n",
    "    return sanitized_paragraph"
   ]
  },
  {
   "cell_type": "code",
   "execution_count": 9,
   "metadata": {},
   "outputs": [
    {
     "name": "stdout",
     "output_type": "stream",
     "text": [
      "https://ru.wikipedia.org/wiki/%D0%95%D0%BB%D1%8C%D1%86%D0%B8%D0%BD\n",
      "Бори́с Никола́евич Е́льцин 1931-02-01, , , , — , , — и , государственный и политический деятель, первый всенародно избранный в ноябре 1991 — июне 1992 года одновременно возглавлял . С марта по май 1992 года исполнял обязанности .\n"
     ]
    }
   ],
   "source": [
    "\n",
    "s= requests.Session()\n",
    "p = get_first_paragraph_withCashWrapper(\"https://ru.wikipedia.org/wiki/%D0%95%D0%BB%D1%8C%D1%86%D0%B8%D0%BD\", s)\n",
    "print(p)\n"
   ]
  },
  {
   "cell_type": "code",
   "execution_count": 31,
   "metadata": {},
   "outputs": [
    {
     "name": "stdout",
     "output_type": "stream",
     "text": [
      "Vladimir Putin,  https://ru.wikipedia.org/wiki/%D0%9F%D1%83%D1%82%D0%B8%D0%BD\n",
      "Влади́мир Влади́мирович Пу́тин род. , , — государственный, и деятель. Действующий , председатель и с 7 мая 2012 года. Ранее занимал должность президента с 7 мая 2000 года по 7 мая 2008 года, также в 1999—2000 и 2008—2012 годах занимал должность . 1997.\n",
      "Dmitry Medvedev,  https://ru.wikipedia.org/wiki/%D0%9C%D0%B5%D0%B4%D0%B2%D0%B5%D0%B4%D0%B5%D0%B2\n",
      "Медве́дев — русская фамилия, образованная от прозвища «». Известна с как дворянская фамилия .\n",
      "Boris Yeltsin,  https://ru.wikipedia.org/wiki/%D0%95%D0%BB%D1%8C%D1%86%D0%B8%D0%BD\n",
      "Бори́с Никола́евич Е́льцин 1931-02-01, , , , — , , — и , государственный и политический деятель, первый всенародно избранный в ноябре 1991 — июне 1992 года одновременно возглавлял . С марта по май 1992 года исполнял обязанности .\n",
      " ,  \n",
      "Information could not be extracted. Either link not found or link has error\n",
      "François Hollande,  https://fr.wikipedia.org/wiki/Fran%C3%A7ois_Hollande\n",
      "François Hollande , né le à , est un et . Il est du au .\n",
      "Nicolas Sarkozy,  https://fr.wikipedia.org/wiki/Nicolas_Sarkozy\n",
      "Nicolas Sarközy de Nagy-Bocsa, dit Nicolas Sarkozy / / , né le à , est un . Il est du 16 mai 2007 au 15 mai 2012.\n",
      "François Mitterrand,  https://fr.wikipedia.org/wiki/Fran%C3%A7ois_Mitterrand\n",
      "François Mitterrand , né le à et mort le à , est un , du 21 mai 1981 au 17 mai 1995.\n",
      "Charles de Gaulle,  https://fr.wikipedia.org/wiki/Charles_de_Gaulle\n",
      "Charles de Gaulle / / , communément appelé le général de Gaulle ou parfois simplement le Général, né le 22 novembre 1890 à et mort le 9 novembre 1970 à , est un , , et .\n",
      "Jacques Chirac,  https://fr.wikipedia.org/wiki/Jacques_Chirac\n",
      "Jacques Chirac / / est un et , né le à et mort le dans la même ville. Il est de 1974 à 1976 puis de 1986 à 1988 et de 1995 à 2007.\n",
      "Valéry Giscard d'Estaing,  https://fr.wikipedia.org/wiki/Val%C3%A9ry_Giscard_d%27Estaing\n",
      "Valéry Giscard d'Estaing — communément appelé « Giscard » ou désigné par ses initiales, « VGE » —, né le à et mort le à , est un , de 1974 à 1981.\n",
      "Georges Pompidou,  https://fr.wikipedia.org/wiki/Georges_Pompidou\n",
      "Georges Pompidou , né le 5 juillet 1911 à et mort le 2 avril 1974 à , est un et . Il est du 14 avril 1962 au 10 juillet 1968 et du 20 juin 1969 à sa mort.\n",
      "Adolphe Thiers,  https://fr.wikipedia.org/wiki/Adolphe_Thiers\n",
      "Adolphe Thiers, né le 26 à et mort le à , est un , , et .\n",
      "Napoléon Bonaparte,  https://fr.wikipedia.org/wiki/Napol%C3%A9on_III\n",
      "Charles Louis Napoléon Bonaparte, dit Louis-Napoléon Bonaparte, né le à et mort le à , est un et un . Il est à la fois l'unique président de la , le premier élu au , le 10 décembre 1848, le premier , et, après la proclamation de l' le 2 décembre 1852, le dernier du pays sous le nom de Napoléon II,I, .\n",
      "Paul Doumer,  https://fr.wikipedia.org/wiki/Paul_Doumer\n",
      "Joseph Athanase Doumer, dit Paul Doumer, né le à et le à , est un . Il est du 13 juin 1931 à sa mort.\n",
      "Alain Poher,  https://fr.wikipedia.org/wiki/Alain_Poher\n",
      "Alain Poher, né le à et mort le à , est un .\n",
      "Albert Lebrun,  https://fr.wikipedia.org/wiki/Albert_Lebrun\n",
      "Albert Lebrun, né le à alors en et mort le à alors dans le , est un . Il est du 10 mai 1932 au 11 juillet 1940 le dernier de la .\n",
      "René Coty,  https://fr.wikipedia.org/wiki/Ren%C3%A9_Coty\n",
      "René Coty, né le au et mort le dans la même ville, est un . Il est du 16 janvier 1954 au 8 janvier 1959.\n",
      "Vincent Auriol,  https://fr.wikipedia.org/wiki/Vincent_Auriol\n",
      "Vincent Auriol, né le à et mort le à , est un . Il est du au .\n",
      "Patrice de Mac Mahon,  https://fr.wikipedia.org/wiki/Patrice_de_Mac_Mahon\n",
      "Patrice de Mac Mahon, comte de , 1er , , né le au de et mort le à , est un et , de 1873 à 1879.\n",
      "Émile Loubet,  https://fr.wikipedia.org/wiki/%C3%89mile_Loubet\n",
      "Émile Loubet, né le à et mort le à Drôme, est un . Il est du au .\n",
      "Raymond Poincaré,  https://fr.wikipedia.org/wiki/Raymond_Poincar%C3%A9\n",
      "Raymond Poincaré, du nom complet Raymond Nicolas Landry Poincaré, est né le à et mort le à , est un et . Il est le du 18 février 1913 au 18 février 1920.\n",
      "Marie Carnot,  https://fr.wikipedia.org/wiki/Sadi_Carnot_(homme_d%27%C3%89tat)\n",
      "Marie François Sadi Carnot, plus souvent appelé Sadi Carnot, est un , né le à et mort le à . Il est du 3 décembre 1887 à sa mort.\n",
      "Alexandre Millerand,  https://fr.wikipedia.org/wiki/Alexandre_Millerand\n",
      "Alexandre Millerand, né le à et mort le à , est un . Il est du 20 janvier au 23 septembre 1920, puis du 23 septembre 1920 au 11 juin 1924.\n",
      "Gaston Doumergue,  https://fr.wikipedia.org/wiki/Gaston_Doumergue\n",
      "Gaston Doumergue, né le à et mort le dans la même ville, est un . Il est du au .\n",
      "Félix Faure,  https://fr.wikipedia.org/wiki/F%C3%A9lix_Faure\n",
      "Félix Faure, né le à et mort le dans la même ville, est un . Il est du à sa mort.\n",
      "Jules Grévy,  https://fr.wikipedia.org/wiki/Jules_Gr%C3%A9vy\n",
      "Jules Grévy, né le 15 août 1807 à et mort le 9 septembre 1891 dans la même commune, est un et , du 30 janvier 1879 au 2 décembre 1887.\n",
      "Clément Fallières,  https://fr.wikipedia.org/wiki/Armand_Falli%C3%A8res\n",
      "Armand Fallières, né le 6 novembre 1841 à et mort le 22 juin 1931 à , est un , de 1906 à 1913.\n",
      "Paul Deschanel,  https://fr.wikipedia.org/wiki/Paul_Deschanel\n",
      "Paul Deschanel, né le à et mort le à , est un , et , du 18 février au 21 septembre 1920.\n",
      "Georges Bidault,  https://fr.wikipedia.org/wiki/Georges_Bidault\n",
      "Georges Bidault, né le à et mort le à , est un et un .\n",
      "Jean Casimir-Perier,  https://fr.wikipedia.org/wiki/Jean_Casimir-Perier\n",
      "Jean Casimir-Perier, né le à et mort le dans la même ville, est un . Il est du 27 juin 1894 au 16 janvier 1895.\n",
      "Charles Dupuy,  https://fr.wikipedia.org/wiki/Charles_Dupuy\n",
      "Charles Dupuy, né le au et mort le à , est un . Il occupe à plusieurs reprises la fonction de sous la , entre 1893 et 1899. Il est également président de la de 1893 à 1894.\n",
      "Louis Cavaignac,  https://fr.wikipedia.org/wiki/Eug%C3%A8ne_Cavaignac\n",
      "Louis Eugène Cavaignac, dit Eugène Cavaignac et connu aussi sous le nom de général Cavaignac, né le 23 à et mort le dans son château d'Ourne à , est un et . 1848 puis chargé du pouvoir exécutif durant l'année 1848. Candidat à l', il est battu par .\n",
      "Louis None,  https://fr.wikipedia.org/wiki/Louis_Jules_Trochu\n",
      "Louis-Jules Trochu, né au à le et mort à le , est un et sous le . Élève de et de l', , il prend le pouvoir à la suite de la proclamation de la République en 1870, et met en place un le . Il quitte le pouvoir le et met fin à son gouvernement après avoir tenté de poursuivre la .\n",
      "Frédéric None,  https://fr.wikipedia.org/wiki/Fr%C3%A9d%C3%A9ric_Fran%C3%A7ois-Marsal\n",
      "Frédéric François-Marsal, né le à et mort le à , est un homme d'affaires et un de la droite républicaine, dont la carrière politique a culminé avec son bref passage à la présidence du Conseil en 1924.\n",
      "Emmanuel Macron,  https://fr.wikipedia.org/wiki/Emmanuel_Macron\n",
      "Emmanuel Macron / / , né le à , est un et . Il est depuis le 14 mai 2017.\n",
      " ,  \n",
      "Information could not be extracted. Either link not found or link has error\n",
      "George Washington,  https://en.wikipedia.org/wiki/George_Washington\n",
      "George Washington February 22, 1732 – December 14, 1799 was an American military officer, statesman, and who served as the first from 1789 to 1797. Appointed by the as commander of the , Washington led the forces to victory in the and served as the president of the of 1787, which created the and the American federal government. Washington has been called the \"\" for his manifold leadership in the formative days of the country.\n",
      "Barack Obama,  https://en.wikipedia.org/wiki/Barack_Obama\n",
      "Barack Hussein Obama II, born August 4, 1961 is an American politician who served as the 44th from 2009 to 2017. A member of the , he was the first African-American president of the United States. Obama previously served as a from from 2005 to 2008 and as an from 1997 to 2004.\n",
      "Abraham Lincoln,  https://en.wikipedia.org/wiki/Abraham_Lincoln\n",
      "Abraham Lincoln February 12, 1809 – April 15, 1865 was an American lawyer and statesman who served as the 16th from 1861 until in 1865. Lincoln led the nation through the and succeeded in preserving the , , bolstering the , and modernizing the .\n",
      "George Bush,  https://en.wikipedia.org/wiki/George_W._Bush\n",
      "George Walker Bush born July 6, 1946 is an American politician who served as the 43rd from 2001 to 2009. A member of the , , and son of the 41st president , he previously served as the 46th from 1995 to 2000.\n",
      "Bill Clinton,  https://en.wikipedia.org/wiki/Bill_Clinton\n"
     ]
    },
    {
     "name": "stdout",
     "output_type": "stream",
     "text": [
      "William Jefferson Clinton Blythe II,I born August 19, 1946 is an American politician who served as the 42nd from 1993 to 2001. He previously served as from 1979 to 1981 and again from 1983 to 1992, and as from 1977 to 1979. A member of the , Clinton became known as a , as many of his policies reflected a \"\" political philosophy. He is the husband of , who was a from from 2001 to 2009, from 2009 to 2013 and the Democratic nominee for president in the .\n",
      "Joe Biden,  https://en.wikipedia.org/wiki/Joe_Biden\n",
      "Joseph Robinette Biden Jr. born November 20, 1942 is an American politician who is the 46th and current . A member of the , he previously served as the 47th from 2009 to 2017 under President and represented in the from 1973 to 2009.\n",
      "Franklin Roosevelt,  https://en.wikipedia.org/wiki/Franklin_D._Roosevelt\n",
      "Franklin Delano Roosevelt January 30, 1882 – April 12, 1945, often referred to by his initials FDR, was an American politician and attorney who served as the 32nd from 1933 until his death in 1945. As a member of the , he won a record four and became a central figure in world events during the first half of the 20th century. Roosevelt directed the federal government during most of the , implementing his domestic agenda in response to the worst economic crisis in U.S. history. As a dominant leader of his party, he built the , which defined throughout the middle third of the 20th century. His third and fourth terms were dominated by , which ended shortly after he died in office.\n",
      "Andrew Johnson,  https://en.wikipedia.org/wiki/Andrew_Johnson\n",
      "Andrew Johnson December 29, 1808 – July 31, 1875 was the 17th , serving from 1865 to 1869. He assumed the presidency as he was at the time of of . Johnson was a who ran with Lincoln on the ticket, coming to office as the concluded. He favored quick restoration of the without protection for the who were formerly . This led to conflict with the -dominated Congress, culminating in by the House of Representatives in 1868. He was by one vote.\n",
      "Gerald Ford,  https://en.wikipedia.org/wiki/Gerald_Ford\n",
      "Gerald Rudolph Ford Jr. born Leslie Lynch King Jr. July 14, 1913 – December 26, 2006 was an American politician who served as the 38th from 1974 to 1977. He was the only president never to have been elected to the office of president or vice president. He previously served as the leader of the in the , and was appointed to be the 40th in 1973. When President resigned in 1974, Ford succeeded to the presidency, but was defeated for election to a full term in .\n",
      "Richard Nixon,  https://en.wikipedia.org/wiki/Richard_Nixon\n",
      "Richard Milhous Nixon January 9, 1913 – April 22, 1994 was the 37th , serving from 1969 to 1974. A member of the , he previously served as a and from and was the 36th from 1953 to 1961 under President . His five years in the White House saw reduction of U.S. involvement in the , with the and , the , and the establishment of the and . Nixon's second term ended early, when he became the only president to from office, following the .\n",
      "Lyndon Johnson,  https://en.wikipedia.org/wiki/Lyndon_B._Johnson\n",
      "Lyndon Baines Johnson August 27, 1908 – January 22, 1973, often referred to by his initials LBJ, was an American politician who served as the 36th from 1963 to 1969. He had previously served as the 37th from 1961 to 1963 under President , and was sworn in shortly after . A from , Johnson also served as a , and the Senate's . He holds the distinction of being one of the few presidents who served in all elected offices at the federal level.\n",
      "John Kennedy,  https://en.wikipedia.org/wiki/John_F._Kennedy\n",
      "John Fitzgerald Kennedy May 29, 1917 – November 22, 1963, often referred to by his initials JFK and the nickname Jack, was an American politician who served as the 35th from 1961 until near the end of his third year in office. Kennedy was the youngest person to assume the presidency by . He was also the youngest president at the end of his tenure. Kennedy served at the height of the , and the majority of his work as president concerned relations with the and . A , he represented in both houses of the prior to his presidency.\n",
      "Dwight Eisenhower,  https://en.wikipedia.org/wiki/Dwight_D._Eisenhower\n",
      "Dwight David \"Ike\" Eisenhower born David Dwight Eisenhower October 14, 1890 – March 28, 1969 was an American and statesman who served as the 34th from 1953 to 1961. During , he served as in Europe, and achieved the of . He planned and supervised the invasion of North Africa in in 1942–1943 and the from the in 1944–1945.\n",
      "Ronald Reagan,  https://en.wikipedia.org/wiki/Ronald_Reagan\n",
      "Ronald Wilson Reagan February 6, 1911 – June 5, 2004 was an American politician who served as the 40th from 1981 to 1989. A member of the from 1962 onward, he served as the 33rd from 1967 to 1975 prior to his presidency, after having a career as a actor and leader.\n",
      "Harry Truman,  https://en.wikipedia.org/wiki/Harry_S._Truman\n",
      "Harry S. Truman May 8, 1884 – December 26, 1972 was the 33rd , serving from 1945 to 1953. A member of the , he previously served as the 34th from January to April 1945 under and as a from from 1935 to January 1945. Having assumed the presidency after Roosevelt's death, Truman implemented the to rebuild the economy of Western Europe and established both the and to contain the expansion of . He proposed numerous liberal domestic reforms, but few were enacted by the which dominated the .\n",
      "John Adams,  https://en.wikipedia.org/wiki/John_Adams\n",
      "John Adams October 30, 1735 – July 4, 1826 was an American statesman, attorney, diplomat, writer, and who served as the second from 1797 to 1801. Before , he was a leader of the that achieved independence from Great Britain and during the war, served as a diplomat in Europe. He was twice elected , serving from 1789 to 1797 in a prestigious role with little power. Adams was a dedicated diarist and regularly corresponded with many important contemporaries, including his wife and adviser as well as his friend and rival .\n",
      "Thomas Jefferson,  https://en.wikipedia.org/wiki/Thomas_Jefferson\n",
      "Thomas Jefferson April 13, 1743 – July 4, 1826 was an American statesman, diplomat, lawyer, architect, philosopher, and who served as the third from 1801 to 1809. He was previously the second under and the first under . The principal author of the , Jefferson was a proponent of democracy, , and individual rights, motivating to break from the and form a new nation. He produced formative documents and decisions at state, national, and international levels.\n",
      "James Madison,  https://en.wikipedia.org/wiki/James_Madison\n",
      "James Madison Jr. March 16, 1751 – June 28, 1836 was an American statesman, diplomat, and . He served as the fourth from 1809 to 1817. Madison is hailed as the \"Father of the Constitution\" for his pivotal role in drafting and promoting the and the .\n",
      "James Monroe,  https://en.wikipedia.org/wiki/James_Monroe\n",
      "James Monroe April 28, 1758 – July 4, 1831 was an American statesman, lawyer, diplomat and who served as the fifth from 1817 to 1825. A member of the , Monroe was the last president of the and the coincided with the , concluding the era of American politics. He is perhaps best known for issuing the , a policy of opposing European colonialism in the while effectively asserting U.S. dominance, empire, and hegemony in the hemisphere. He also served as governor of , a member of the , U.S. ambassador to and , the seventh , and the eighth .\n",
      "John Adams,  https://en.wikipedia.org/wiki/John_Quincy_Adams\n",
      "John Quincy Adams July 11, 1767 – February 23, 1848 was an American statesman, diplomat, lawyer, and who served as the sixth , from 1825 to 1829. He previously served as the eighth from 1817 to 1825. During his long diplomatic and political career, Adams also served as an ambassador, and as a member of the representing in both chambers. He was the eldest son of , who served as the second president of the United States from 1797 to 1801, and . Initially a like his father, he won election to the presidency as a member of the , and in the mid-1830s became affiliated with the .\n",
      "Andrew Jackson,  https://en.wikipedia.org/wiki/Andrew_Jackson\n",
      "Andrew Jackson March 15, 1767 – June 8, 1845 was an American lawyer, , general, and statesman who served as the seventh from 1829 to 1837. Before being elected to the presidency, Jackson gained fame as a general in the and served in both houses of the . Although often praised as an advocate for ordinary Americans and for his work in , Jackson has also been criticized for his racial policies, particularly his role in the of tens of thousands of from their ancestral homelands.\n",
      "Martin Van Buren,  https://en.wikipedia.org/wiki/Martin_Van_Buren\n"
     ]
    },
    {
     "name": "stdout",
     "output_type": "stream",
     "text": [
      "Martin Van Buren : Maarten van Buren Dutch pronunciation: December 5, 1782 – July 24, 1862 was an American lawyer and statesman who served as the eighth from 1837 to 1841. A founder of the , he had previously served as the ninth , the tenth , and the eighth . Later in his life, Van Buren emerged as an elder statesman and an important anti-slavery leader who led the ticket in the .\n",
      "William Harrison,  https://en.wikipedia.org/wiki/William_Henry_Harrison\n",
      "William Henry Harrison February 9, 1773 – April 4, 1841 was an American military officer and politician who served as the ninth . Harrison died just 31 days after his inauguration in 1841, and had the shortest presidency in United States history. He was also the first United States president to die in office, and a brief resulted as was not then fully defined in the . Harrison was the last president born as a British subject in the and was the paternal grandfather of , the 23rd president of the United States.\n",
      "John Tyler,  https://en.wikipedia.org/wiki/John_Tyler\n",
      "John Tyler March 29, 1790 – January 18, 1862 was the tenth , serving from 1841 to 1845, after briefly holding office as the tenth in 1841. He was elected vice president on the ticket with President , succeeding to the presidency after Harrison's death 31 days after assuming office. Tyler was a stalwart supporter and advocate of , including regarding , and he adopted nationalistic policies as president only when they did not infringe on the powers of the states. His unexpected rise to the presidency posed a threat to the presidential ambitions of and other Whig politicians and left Tyler estranged from both of the nation's major political parties at the time.\n",
      "James Polk,  https://en.wikipedia.org/wiki/James_K._Polk\n",
      "James Knox Polk November 2, 1795 – June 15, 1849 was the 11th , serving from 1845 to 1849. He previously was the 13th 1835–1839 and ninth 1839–1841. A protégé of , he was a member of the and an advocate of . Polk is chiefly known for extending the territory of the United States through the during his presidency, the United States expanded significantly with the of the , the , and the following American victory in the Mexican–American War.\n",
      "Zachary Taylor,  https://en.wikipedia.org/wiki/Zachary_Taylor\n",
      "Zachary Taylor November 24, 1784 – July 9, 1850 was an American military leader who served as the 12th from 1849 until his death in 1850. Taylor previously was a career officer in the , rising to the rank of and becoming a national hero as a result of his victories in the . As a result, he won election to the despite his vague political beliefs. His top priority as president was preserving the Union. He died sixteen months into his term, having made no progress on the most divisive issue in Congress, .\n",
      "Millard Fillmore,  https://en.wikipedia.org/wiki/Millard_Fillmore\n",
      "Millard Fillmore January 7, 1800 – March 8, 1874 was the 13th , serving from 1850 to 1853, the last to be a member of the while in the White House. A former member of the from , Fillmore was elected as the 12th in , and succeeded to the presidency in July 1850 upon the death of U.S. President . Fillmore was instrumental in the passing of the , a bargain that led to a brief truce in the battle over the expansion of slavery. He failed to win the but gained the endorsement of the nativist four years later and finished third in the .\n",
      "Franklin Pierce,  https://en.wikipedia.org/wiki/Franklin_Pierce\n",
      "Franklin Pierce November 23, 1804 – October 8, 1869 was the 14th serving from 1853 to 1857. He was a northern who believed that the was a fundamental threat to the unity of the nation. He alienated anti-slavery groups by signing the and enforcing the , and conflict between North and South persisted until and the began in 1861.\n",
      "James Buchanan,  https://en.wikipedia.org/wiki/James_Buchanan\n",
      "James Buchanan Jr. April 23, 1791 – June 1, 1868 was an American lawyer, diplomat and politician who served as the 15th from 1857 to 1861. He previously served as from 1845 to 1849 and represented in both houses of the . He was an advocate for , particularly regarding , and minimized the role of the preceding the . Buchanan was the last president born in the .\n",
      "Donald Trump,  https://en.wikipedia.org/wiki/Donald_Trump\n",
      "Donald John Trump born June 14, 1946 is an American , , and who served as the 45th from 2017 to 2021.\n",
      "George Bush,  https://en.wikipedia.org/wiki/George_H._W._Bush\n",
      "George Herbert Walker Bush June 12, 1924 – November 30, 2018 was an American politician, diplomat, and businessman who served as the 41st from 1989 to 1993. A member of the , he previously served as the 43rd from 1981 to 1989 under President , in the , as , and as .\n",
      "Jimmy Carter,  https://en.wikipedia.org/wiki/Jimmy_Carter\n",
      "James Earl Carter Jr. born October 1, 1924 is an American former politician who served as the 39th from 1977 to 1981. A member of the , he previously served as the 76th from 1971 to 1975 and as a from 1963 to 1967. Since leaving office, Carter has remained engaged in political and social projects, receiving the in 2002 for his humanitarian work.\n",
      "Theodore Roosevelt,  https://en.wikipedia.org/wiki/Theodore_Roosevelt\n",
      "Theodore Roosevelt Jr. October 27, 1858 – January 6, 1919, often referred to as Teddy or by his initials, T. R., was an American politician, statesman, soldier, conservationist, naturalist, historian, and writer who served as the 26th from 1901 to 1909. He previously served as the 25th under President from March to September 1901 and as the 33rd from 1899 to 1900. Having assumed the presidency after , Roosevelt emerged as a leader of the and became a driving force for and policies.\n",
      "Woodrow Wilson,  https://en.wikipedia.org/wiki/Woodrow_Wilson\n",
      "Thomas Woodrow Wilson December 28, 1856 – February 3, 1924 was an American politician and academic who served as the 28th from 1913 to 1921. A member of the , Wilson served as the and as the before winning the . As president, Wilson changed the nation's economic policies and led the United States into in 1917. He was the leading architect of the , and his progressive stance on foreign policy came to be known as .\n",
      "James Garfield,  https://en.wikipedia.org/wiki/James_A._Garfield\n",
      "James Abram Garfield November 19, 1831 – September 19, 1881 was the 20th , serving from March 4, 1881, until six months later, two months after he was shot by an assassin. A lawyer and general, he served nine terms in the House of Representatives and was the only sitting member of the House to be elected president. Before his candidacy for the , he had been elected to the by the , a position he declined when he became .\n",
      "Ulysses Grant,  https://en.wikipedia.org/wiki/Ulysses_S._Grant\n",
      "Ulysses S. Grant born Hiram Ulysses Grant April 27, 1822 – July 23, 1885 was an American military officer and politician who served as the 18th from 1869 to 1877. As , he led the to victory in the in 1865 and thereafter briefly served as . Later, as president, Grant was an effective civil rights executive who signed the bill that created the and worked with to protect during .\n",
      "William McKinley,  https://en.wikipedia.org/wiki/William_McKinley\n",
      "William McKinley January 29, 1843 – September 14, 1901 was the 25th , serving from 1897 until . He was president during the of 1898, raised to boost American industry, and rejected the expansionary of , keeping the nation on the .\n",
      "Stephen Cleveland,  https://en.wikipedia.org/wiki/Grover_Cleveland\n",
      "Stephen Grover Cleveland March 18, 1837 – June 24, 1908 was an American lawyer and politician who served as the 22nd and 24th from 1885 to 1889 and from 1893 to 1897. Cleveland is the only president in American history to serve two non-consecutive terms in office. He won the for three presidential elections—in , , and —and was one of two followed by in 1912 to be elected president during the era of presidential domination dating from 1861 to 1933.\n",
      "Herbert Hoover,  https://en.wikipedia.org/wiki/Herbert_Hoover\n",
      "Herbert Clark Hoover August 10, 1874 – October 20, 1964 was an American politician and engineer who served as the 31st from 1929 to 1933 and a member of the , holding office during the onset of the . Before serving as president, Hoover led the , served as the director of the , and served as the third .\n",
      "Warren Harding,  https://en.wikipedia.org/wiki/Warren_G._Harding\n"
     ]
    },
    {
     "name": "stdout",
     "output_type": "stream",
     "text": [
      "Warren Gamaliel Harding November 2, 1865 – August 2, 1923 was the 29th , serving from 1921 until his death in 1923. A member of the , he was one of the most popular sitting U.S. presidents. After his death, a number of scandals were exposed, including , as well as an extramarital affair with , which diminished his reputation.\n",
      "Chester Arthur,  https://en.wikipedia.org/wiki/Chester_A._Arthur\n",
      "Chester Alan Arthur October 5, 1829 – November 18, 1886 was an American lawyer and politician who served as the 21st from 1881 to 1885. Previously the 20th , he succeeded to the presidency upon the of in September 1881, two months after Garfield was shot by an assassin.\n",
      "William Taft,  https://en.wikipedia.org/wiki/William_Howard_Taft\n",
      "William Howard Taft September 15, 1857 – March 8, 1930 was the 27th 1909–1913 and the tenth 1921–1930, the only person to have held both offices. Taft was elected president , the chosen successor of , but was defeated for reelection by after Roosevelt split the vote by running as a candidate. In 1921, President appointed Taft to be chief justice, a position he held until a month before his death.\n",
      "Benjamin Harrison,  https://en.wikipedia.org/wiki/Benjamin_Harrison\n",
      "Benjamin Harrison August 20, 1833 – March 13, 1901 was an American lawyer and politician who served as the 23rd from 1889 to 1893. He was a grandson of the ninth president, , and a great-grandson of , a who signed the .\n",
      "Rutherford Hayes,  https://en.wikipedia.org/wiki/Rutherford_B._Hayes\n",
      "Rutherford Birchard Hayes October 4, 1822 – January 17, 1893 was an American lawyer and politician who served as the 19th from 1877 to 1881, after serving in the and as . Before the , Hayes was a lawyer and staunch who defended refugee slaves in court proceedings. He served in the and the House of Representatives before assuming the presidency. His presidency represents a turning point in U.S. history, as historians consider it the formal end of . Hayes, a prominent member of the Republican \"\" faction, placated both Southern Democrats and Republican businessmen by ending the federal government's involvement in attempting to bring racial equality in .\n",
      "John Coolidge,  https://en.wikipedia.org/wiki/Calvin_Coolidge\n",
      "Calvin Coolidge born John Calvin Coolidge Jr. July 4, 1872 – January 5, 1933 was the 30th from 1923 to 1929. Born in , Coolidge was a lawyer from who climbed up the ladder of state politics, eventually becoming the state's . His response to the of 1919 thrust him into the national spotlight as a man of decisive action. He was elected the country's 29th the next year, succeeding the presidency upon the sudden death of President in 1923. Elected in his own right in , Coolidge gained a reputation as a and also as a man who said very little and had a dry sense of humor, receiving the nickname \"Silent Cal\". Though his widespread popularity enabled him to run for a third term, he chose not to run again in , remarking that ten years as president was \"longer than any other man has had it – too long!\"\n",
      " ,  \n",
      "Information could not be extracted. Either link not found or link has error\n",
      " ,  \n",
      "Information could not be extracted. Either link not found or link has error\n",
      " ,  \n",
      "Information could not be extracted. Either link not found or link has error\n",
      " ,  \n",
      "Information could not be extracted. Either link not found or link has error\n",
      " ,  \n",
      "Information could not be extracted. Either link not found or link has error\n"
     ]
    }
   ],
   "source": [
    "leaders_per_country = get_leaders()"
   ]
  },
  {
   "cell_type": "markdown",
   "metadata": {
    "id": "LypJpspWZ8se"
   },
   "source": [
    "Check that the cache is working again."
   ]
  },
  {
   "cell_type": "code",
   "execution_count": 218,
   "metadata": {
    "id": "Zd9uYmq0aEQa"
   },
   "outputs": [],
   "source": [
    "# %%time\n",
    "# leaders_per_country = get_leaders()"
   ]
  },
  {
   "cell_type": "markdown",
   "metadata": {
    "id": "LtLTvw3wPqe0"
   },
   "source": [
    "## Saving your hard work\n",
    "\n",
    "The final step is to save the ``leaders_per_country`` dictionary in the `leaders.json` file using the [json](https://docs.python.org/3/library/json.html) module. Make a tour in our [file handling section](../../2.python/2.python_advanced/04.File-handling/file_handling.ipynb) to know more about how to read and write files using Python."
   ]
  },
  {
   "cell_type": "code",
   "execution_count": 33,
   "metadata": {},
   "outputs": [],
   "source": [
    "import json"
   ]
  },
  {
   "cell_type": "code",
   "execution_count": 34,
   "metadata": {
    "id": "pTNGKKrOjNDk"
   },
   "outputs": [],
   "source": [
    "# 3 lines\n",
    "for country in countries:\n",
    "    country = country.replace('\\\"', \"\")\n",
    "    file_name = \"C:/BeCode/LocalRepos/GNT-Arai-4/\" + country + \"_\" + \"leaders.json\"\n",
    "    \n",
    "    json_file = open(file_name, 'w')\n",
    "    json_file.write(json.dumps(leaders_per_country.get(country)))\n",
    "    json_file.close()\n",
    "#     break\n",
    "\n",
    "\n"
   ]
  },
  {
   "cell_type": "markdown",
   "metadata": {
    "id": "v7uf_kfGCWmM"
   },
   "source": [
    "Make sure the file can be read back. Write the code to read the file."
   ]
  },
  {
   "cell_type": "code",
   "execution_count": null,
   "metadata": {
    "id": "4VwNjBYyjPzs"
   },
   "outputs": [],
   "source": [
    "#3 lines"
   ]
  },
  {
   "cell_type": "markdown",
   "metadata": {
    "id": "1fW_U7gXktyv"
   },
   "source": [
    "Make a function `save()` to call this code easily."
   ]
  },
  {
   "cell_type": "code",
   "execution_count": 35,
   "metadata": {
    "id": "EfknpnTljqUd"
   },
   "outputs": [
    {
     "name": "stdout",
     "output_type": "stream",
     "text": [
      "[{'first_name': 'George', 'last_name': 'Washington', 'wikipedia_url': 'https://en.wikipedia.org/wiki/George_Washington', 'first_paragraph': 'George Washington February 22, 1732 – December 14, 1799 was an American military officer, statesman, and who served as the first from 1789 to 1797. Appointed by the as commander of the , Washington led the forces to victory in the and served as the president of the of 1787, which created the and the American federal government. Washington has been called the \"\" for his manifold leadership in the formative days of the country.'}, {'first_name': 'Barack', 'last_name': 'Obama', 'wikipedia_url': 'https://en.wikipedia.org/wiki/Barack_Obama', 'first_paragraph': 'Barack Hussein Obama II, born August 4, 1961 is an American politician who served as the 44th from 2009 to 2017. A member of the , he was the first African-American president of the United States. Obama previously served as a from from 2005 to 2008 and as an from 1997 to 2004.'}, {'first_name': 'Abraham', 'last_name': 'Lincoln', 'wikipedia_url': 'https://en.wikipedia.org/wiki/Abraham_Lincoln', 'first_paragraph': 'Abraham Lincoln February 12, 1809 – April 15, 1865 was an American lawyer and statesman who served as the 16th from 1861 until in 1865. Lincoln led the nation through the and succeeded in preserving the , , bolstering the , and modernizing the .'}, {'first_name': 'George', 'last_name': 'Bush', 'wikipedia_url': 'https://en.wikipedia.org/wiki/George_W._Bush', 'first_paragraph': 'George Walker Bush born July 6, 1946 is an American politician who served as the 43rd from 2001 to 2009. A member of the , , and son of the 41st president , he previously served as the 46th from 1995 to 2000.'}, {'first_name': 'Bill', 'last_name': 'Clinton', 'wikipedia_url': 'https://en.wikipedia.org/wiki/Bill_Clinton', 'first_paragraph': 'William Jefferson Clinton Blythe II,I born August 19, 1946 is an American politician who served as the 42nd from 1993 to 2001. He previously served as from 1979 to 1981 and again from 1983 to 1992, and as from 1977 to 1979. A member of the , Clinton became known as a , as many of his policies reflected a \"\" political philosophy. He is the husband of , who was a from from 2001 to 2009, from 2009 to 2013 and the Democratic nominee for president in the .'}, {'first_name': 'Joe', 'last_name': 'Biden', 'wikipedia_url': 'https://en.wikipedia.org/wiki/Joe_Biden', 'first_paragraph': 'Joseph Robinette Biden Jr. born November 20, 1942 is an American politician who is the 46th and current . A member of the , he previously served as the 47th from 2009 to 2017 under President and represented in the from 1973 to 2009.'}, {'first_name': 'Franklin', 'last_name': 'Roosevelt', 'wikipedia_url': 'https://en.wikipedia.org/wiki/Franklin_D._Roosevelt', 'first_paragraph': 'Franklin Delano Roosevelt January 30, 1882 – April 12, 1945, often referred to by his initials FDR, was an American politician and attorney who served as the 32nd from 1933 until his death in 1945. As a member of the , he won a record four and became a central figure in world events during the first half of the 20th century. Roosevelt directed the federal government during most of the , implementing his domestic agenda in response to the worst economic crisis in U.S. history. As a dominant leader of his party, he built the , which defined throughout the middle third of the 20th century. His third and fourth terms were dominated by , which ended shortly after he died in office.'}, {'first_name': 'Andrew', 'last_name': 'Johnson', 'wikipedia_url': 'https://en.wikipedia.org/wiki/Andrew_Johnson', 'first_paragraph': 'Andrew Johnson December 29, 1808 – July 31, 1875 was the 17th , serving from 1865 to 1869. He assumed the presidency as he was at the time of of . Johnson was a who ran with Lincoln on the ticket, coming to office as the concluded. He favored quick restoration of the without protection for the who were formerly . This led to conflict with the -dominated Congress, culminating in by the House of Representatives in 1868. He was by one vote.'}, {'first_name': 'Gerald', 'last_name': 'Ford', 'wikipedia_url': 'https://en.wikipedia.org/wiki/Gerald_Ford', 'first_paragraph': 'Gerald Rudolph Ford Jr. born Leslie Lynch King Jr. July 14, 1913 – December 26, 2006 was an American politician who served as the 38th from 1974 to 1977. He was the only president never to have been elected to the office of president or vice president. He previously served as the leader of the in the , and was appointed to be the 40th in 1973. When President resigned in 1974, Ford succeeded to the presidency, but was defeated for election to a full term in .'}, {'first_name': 'Richard', 'last_name': 'Nixon', 'wikipedia_url': 'https://en.wikipedia.org/wiki/Richard_Nixon', 'first_paragraph': \"Richard Milhous Nixon January 9, 1913 – April 22, 1994 was the 37th , serving from 1969 to 1974. A member of the , he previously served as a and from and was the 36th from 1953 to 1961 under President . His five years in the White House saw reduction of U.S. involvement in the , with the and , the , and the establishment of the and . Nixon's second term ended early, when he became the only president to from office, following the .\"}, {'first_name': 'Lyndon', 'last_name': 'Johnson', 'wikipedia_url': 'https://en.wikipedia.org/wiki/Lyndon_B._Johnson', 'first_paragraph': \"Lyndon Baines Johnson August 27, 1908 – January 22, 1973, often referred to by his initials LBJ, was an American politician who served as the 36th from 1963 to 1969. He had previously served as the 37th from 1961 to 1963 under President , and was sworn in shortly after . A from , Johnson also served as a , and the Senate's . He holds the distinction of being one of the few presidents who served in all elected offices at the federal level.\"}, {'first_name': 'John', 'last_name': 'Kennedy', 'wikipedia_url': 'https://en.wikipedia.org/wiki/John_F._Kennedy', 'first_paragraph': 'John Fitzgerald Kennedy May 29, 1917 – November 22, 1963, often referred to by his initials JFK and the nickname Jack, was an American politician who served as the 35th from 1961 until near the end of his third year in office. Kennedy was the youngest person to assume the presidency by . He was also the youngest president at the end of his tenure. Kennedy served at the height of the , and the majority of his work as president concerned relations with the and . A , he represented in both houses of the prior to his presidency.'}, {'first_name': 'Dwight', 'last_name': 'Eisenhower', 'wikipedia_url': 'https://en.wikipedia.org/wiki/Dwight_D._Eisenhower', 'first_paragraph': 'Dwight David \"Ike\" Eisenhower born David Dwight Eisenhower October 14, 1890 – March 28, 1969 was an American and statesman who served as the 34th from 1953 to 1961. During , he served as in Europe, and achieved the of . He planned and supervised the invasion of North Africa in in 1942–1943 and the from the in 1944–1945.'}, {'first_name': 'Ronald', 'last_name': 'Reagan', 'wikipedia_url': 'https://en.wikipedia.org/wiki/Ronald_Reagan', 'first_paragraph': 'Ronald Wilson Reagan February 6, 1911 – June 5, 2004 was an American politician who served as the 40th from 1981 to 1989. A member of the from 1962 onward, he served as the 33rd from 1967 to 1975 prior to his presidency, after having a career as a actor and leader.'}, {'first_name': 'Harry', 'last_name': 'Truman', 'wikipedia_url': 'https://en.wikipedia.org/wiki/Harry_S._Truman', 'first_paragraph': \"Harry S. Truman May 8, 1884 – December 26, 1972 was the 33rd , serving from 1945 to 1953. A member of the , he previously served as the 34th from January to April 1945 under and as a from from 1935 to January 1945. Having assumed the presidency after Roosevelt's death, Truman implemented the to rebuild the economy of Western Europe and established both the and to contain the expansion of . He proposed numerous liberal domestic reforms, but few were enacted by the which dominated the .\"}, {'first_name': 'John', 'last_name': 'Adams', 'wikipedia_url': 'https://en.wikipedia.org/wiki/John_Adams', 'first_paragraph': 'John Adams October 30, 1735 – July 4, 1826 was an American statesman, attorney, diplomat, writer, and who served as the second from 1797 to 1801. Before , he was a leader of the that achieved independence from Great Britain and during the war, served as a diplomat in Europe. He was twice elected , serving from 1789 to 1797 in a prestigious role with little power. Adams was a dedicated diarist and regularly corresponded with many important contemporaries, including his wife and adviser as well as his friend and rival .'}, {'first_name': 'Thomas', 'last_name': 'Jefferson', 'wikipedia_url': 'https://en.wikipedia.org/wiki/Thomas_Jefferson', 'first_paragraph': 'Thomas Jefferson April 13, 1743 – July 4, 1826 was an American statesman, diplomat, lawyer, architect, philosopher, and who served as the third from 1801 to 1809. He was previously the second under and the first under . The principal author of the , Jefferson was a proponent of democracy, , and individual rights, motivating to break from the and form a new nation. He produced formative documents and decisions at state, national, and international levels.'}, {'first_name': 'James', 'last_name': 'Madison', 'wikipedia_url': 'https://en.wikipedia.org/wiki/James_Madison', 'first_paragraph': 'James Madison Jr. March 16, 1751 – June 28, 1836 was an American statesman, diplomat, and . He served as the fourth from 1809 to 1817. Madison is hailed as the \"Father of the Constitution\" for his pivotal role in drafting and promoting the and the .'}, {'first_name': 'James', 'last_name': 'Monroe', 'wikipedia_url': 'https://en.wikipedia.org/wiki/James_Monroe', 'first_paragraph': 'James Monroe April 28, 1758 – July 4, 1831 was an American statesman, lawyer, diplomat and who served as the fifth from 1817 to 1825. A member of the , Monroe was the last president of the and the coincided with the , concluding the era of American politics. He is perhaps best known for issuing the , a policy of opposing European colonialism in the while effectively asserting U.S. dominance, empire, and hegemony in the hemisphere. He also served as governor of , a member of the , U.S. ambassador to and , the seventh , and the eighth .'}, {'first_name': 'John', 'last_name': 'Adams', 'wikipedia_url': 'https://en.wikipedia.org/wiki/John_Quincy_Adams', 'first_paragraph': 'John Quincy Adams July 11, 1767 – February 23, 1848 was an American statesman, diplomat, lawyer, and who served as the sixth , from 1825 to 1829. He previously served as the eighth from 1817 to 1825. During his long diplomatic and political career, Adams also served as an ambassador, and as a member of the representing in both chambers. He was the eldest son of , who served as the second president of the United States from 1797 to 1801, and . Initially a like his father, he won election to the presidency as a member of the , and in the mid-1830s became affiliated with the .'}, {'first_name': 'Andrew', 'last_name': 'Jackson', 'wikipedia_url': 'https://en.wikipedia.org/wiki/Andrew_Jackson', 'first_paragraph': 'Andrew Jackson March 15, 1767 – June 8, 1845 was an American lawyer, , general, and statesman who served as the seventh from 1829 to 1837. Before being elected to the presidency, Jackson gained fame as a general in the and served in both houses of the . Although often praised as an advocate for ordinary Americans and for his work in , Jackson has also been criticized for his racial policies, particularly his role in the of tens of thousands of from their ancestral homelands.'}, {'first_name': 'Martin', 'last_name': 'Van Buren', 'wikipedia_url': 'https://en.wikipedia.org/wiki/Martin_Van_Buren', 'first_paragraph': 'Martin Van Buren : Maarten van Buren Dutch pronunciation: December 5, 1782 – July 24, 1862 was an American lawyer and statesman who served as the eighth from 1837 to 1841. A founder of the , he had previously served as the ninth , the tenth , and the eighth . Later in his life, Van Buren emerged as an elder statesman and an important anti-slavery leader who led the ticket in the .'}, {'first_name': 'William', 'last_name': 'Harrison', 'wikipedia_url': 'https://en.wikipedia.org/wiki/William_Henry_Harrison', 'first_paragraph': 'William Henry Harrison February 9, 1773 – April 4, 1841 was an American military officer and politician who served as the ninth . Harrison died just 31 days after his inauguration in 1841, and had the shortest presidency in United States history. He was also the first United States president to die in office, and a brief resulted as was not then fully defined in the . Harrison was the last president born as a British subject in the and was the paternal grandfather of , the 23rd president of the United States.'}, {'first_name': 'John', 'last_name': 'Tyler', 'wikipedia_url': 'https://en.wikipedia.org/wiki/John_Tyler', 'first_paragraph': \"John Tyler March 29, 1790 – January 18, 1862 was the tenth , serving from 1841 to 1845, after briefly holding office as the tenth in 1841. He was elected vice president on the ticket with President , succeeding to the presidency after Harrison's death 31 days after assuming office. Tyler was a stalwart supporter and advocate of , including regarding , and he adopted nationalistic policies as president only when they did not infringe on the powers of the states. His unexpected rise to the presidency posed a threat to the presidential ambitions of and other Whig politicians and left Tyler estranged from both of the nation's major political parties at the time.\"}, {'first_name': 'James', 'last_name': 'Polk', 'wikipedia_url': 'https://en.wikipedia.org/wiki/James_K._Polk', 'first_paragraph': 'James Knox Polk November 2, 1795 – June 15, 1849 was the 11th , serving from 1845 to 1849. He previously was the 13th 1835–1839 and ninth 1839–1841. A protégé of , he was a member of the and an advocate of . Polk is chiefly known for extending the territory of the United States through the during his presidency, the United States expanded significantly with the of the , the , and the following American victory in the Mexican–American War.'}, {'first_name': 'Zachary', 'last_name': 'Taylor', 'wikipedia_url': 'https://en.wikipedia.org/wiki/Zachary_Taylor', 'first_paragraph': 'Zachary Taylor November 24, 1784 – July 9, 1850 was an American military leader who served as the 12th from 1849 until his death in 1850. Taylor previously was a career officer in the , rising to the rank of and becoming a national hero as a result of his victories in the . As a result, he won election to the despite his vague political beliefs. His top priority as president was preserving the Union. He died sixteen months into his term, having made no progress on the most divisive issue in Congress, .'}, {'first_name': 'Millard', 'last_name': 'Fillmore', 'wikipedia_url': 'https://en.wikipedia.org/wiki/Millard_Fillmore', 'first_paragraph': 'Millard Fillmore January 7, 1800 – March 8, 1874 was the 13th , serving from 1850 to 1853, the last to be a member of the while in the White House. A former member of the from , Fillmore was elected as the 12th in , and succeeded to the presidency in July 1850 upon the death of U.S. President . Fillmore was instrumental in the passing of the , a bargain that led to a brief truce in the battle over the expansion of slavery. He failed to win the but gained the endorsement of the nativist four years later and finished third in the .'}, {'first_name': 'Franklin', 'last_name': 'Pierce', 'wikipedia_url': 'https://en.wikipedia.org/wiki/Franklin_Pierce', 'first_paragraph': 'Franklin Pierce November 23, 1804 – October 8, 1869 was the 14th serving from 1853 to 1857. He was a northern who believed that the was a fundamental threat to the unity of the nation. He alienated anti-slavery groups by signing the and enforcing the , and conflict between North and South persisted until and the began in 1861.'}, {'first_name': 'James', 'last_name': 'Buchanan', 'wikipedia_url': 'https://en.wikipedia.org/wiki/James_Buchanan', 'first_paragraph': 'James Buchanan Jr. April 23, 1791 – June 1, 1868 was an American lawyer, diplomat and politician who served as the 15th from 1857 to 1861. He previously served as from 1845 to 1849 and represented in both houses of the . He was an advocate for , particularly regarding , and minimized the role of the preceding the . Buchanan was the last president born in the .'}, {'first_name': 'Donald', 'last_name': 'Trump', 'wikipedia_url': 'https://en.wikipedia.org/wiki/Donald_Trump', 'first_paragraph': 'Donald John Trump born June 14, 1946 is an American , , and who served as the 45th from 2017 to 2021.'}, {'first_name': 'George', 'last_name': 'Bush', 'wikipedia_url': 'https://en.wikipedia.org/wiki/George_H._W._Bush', 'first_paragraph': 'George Herbert Walker Bush June 12, 1924 – November 30, 2018 was an American politician, diplomat, and businessman who served as the 41st from 1989 to 1993. A member of the , he previously served as the 43rd from 1981 to 1989 under President , in the , as , and as .'}, {'first_name': 'Jimmy', 'last_name': 'Carter', 'wikipedia_url': 'https://en.wikipedia.org/wiki/Jimmy_Carter', 'first_paragraph': 'James Earl Carter Jr. born October 1, 1924 is an American former politician who served as the 39th from 1977 to 1981. A member of the , he previously served as the 76th from 1971 to 1975 and as a from 1963 to 1967. Since leaving office, Carter has remained engaged in political and social projects, receiving the in 2002 for his humanitarian work.'}, {'first_name': 'Theodore', 'last_name': 'Roosevelt', 'wikipedia_url': 'https://en.wikipedia.org/wiki/Theodore_Roosevelt', 'first_paragraph': 'Theodore Roosevelt Jr. October 27, 1858 – January 6, 1919, often referred to as Teddy or by his initials, T. R., was an American politician, statesman, soldier, conservationist, naturalist, historian, and writer who served as the 26th from 1901 to 1909. He previously served as the 25th under President from March to September 1901 and as the 33rd from 1899 to 1900. Having assumed the presidency after , Roosevelt emerged as a leader of the and became a driving force for and policies.'}, {'first_name': 'Woodrow', 'last_name': 'Wilson', 'wikipedia_url': 'https://en.wikipedia.org/wiki/Woodrow_Wilson', 'first_paragraph': \"Thomas Woodrow Wilson December 28, 1856 – February 3, 1924 was an American politician and academic who served as the 28th from 1913 to 1921. A member of the , Wilson served as the and as the before winning the . As president, Wilson changed the nation's economic policies and led the United States into in 1917. He was the leading architect of the , and his progressive stance on foreign policy came to be known as .\"}, {'first_name': 'James', 'last_name': 'Garfield', 'wikipedia_url': 'https://en.wikipedia.org/wiki/James_A._Garfield', 'first_paragraph': 'James Abram Garfield November 19, 1831 – September 19, 1881 was the 20th , serving from March 4, 1881, until six months later, two months after he was shot by an assassin. A lawyer and general, he served nine terms in the House of Representatives and was the only sitting member of the House to be elected president. Before his candidacy for the , he had been elected to the by the , a position he declined when he became .'}, {'first_name': 'Ulysses', 'last_name': 'Grant', 'wikipedia_url': 'https://en.wikipedia.org/wiki/Ulysses_S._Grant', 'first_paragraph': 'Ulysses S. Grant born Hiram Ulysses Grant April 27, 1822 – July 23, 1885 was an American military officer and politician who served as the 18th from 1869 to 1877. As , he led the to victory in the in 1865 and thereafter briefly served as . Later, as president, Grant was an effective civil rights executive who signed the bill that created the and worked with to protect during .'}, {'first_name': 'William', 'last_name': 'McKinley', 'wikipedia_url': 'https://en.wikipedia.org/wiki/William_McKinley', 'first_paragraph': 'William McKinley January 29, 1843 – September 14, 1901 was the 25th , serving from 1897 until . He was president during the of 1898, raised to boost American industry, and rejected the expansionary of , keeping the nation on the .'}, {'first_name': 'Stephen', 'last_name': 'Cleveland', 'wikipedia_url': 'https://en.wikipedia.org/wiki/Grover_Cleveland', 'first_paragraph': 'Stephen Grover Cleveland March 18, 1837 – June 24, 1908 was an American lawyer and politician who served as the 22nd and 24th from 1885 to 1889 and from 1893 to 1897. Cleveland is the only president in American history to serve two non-consecutive terms in office. He won the for three presidential elections—in , , and —and was one of two followed by in 1912 to be elected president during the era of presidential domination dating from 1861 to 1933.'}, {'first_name': 'Herbert', 'last_name': 'Hoover', 'wikipedia_url': 'https://en.wikipedia.org/wiki/Herbert_Hoover', 'first_paragraph': 'Herbert Clark Hoover August 10, 1874 – October 20, 1964 was an American politician and engineer who served as the 31st from 1929 to 1933 and a member of the , holding office during the onset of the . Before serving as president, Hoover led the , served as the director of the , and served as the third .'}, {'first_name': 'Warren', 'last_name': 'Harding', 'wikipedia_url': 'https://en.wikipedia.org/wiki/Warren_G._Harding', 'first_paragraph': 'Warren Gamaliel Harding November 2, 1865 – August 2, 1923 was the 29th , serving from 1921 until his death in 1923. A member of the , he was one of the most popular sitting U.S. presidents. After his death, a number of scandals were exposed, including , as well as an extramarital affair with , which diminished his reputation.'}, {'first_name': 'Chester', 'last_name': 'Arthur', 'wikipedia_url': 'https://en.wikipedia.org/wiki/Chester_A._Arthur', 'first_paragraph': 'Chester Alan Arthur October 5, 1829 – November 18, 1886 was an American lawyer and politician who served as the 21st from 1881 to 1885. Previously the 20th , he succeeded to the presidency upon the of in September 1881, two months after Garfield was shot by an assassin.'}, {'first_name': 'William', 'last_name': 'Taft', 'wikipedia_url': 'https://en.wikipedia.org/wiki/William_Howard_Taft', 'first_paragraph': 'William Howard Taft September 15, 1857 – March 8, 1930 was the 27th 1909–1913 and the tenth 1921–1930, the only person to have held both offices. Taft was elected president , the chosen successor of , but was defeated for reelection by after Roosevelt split the vote by running as a candidate. In 1921, President appointed Taft to be chief justice, a position he held until a month before his death.'}, {'first_name': 'Benjamin', 'last_name': 'Harrison', 'wikipedia_url': 'https://en.wikipedia.org/wiki/Benjamin_Harrison', 'first_paragraph': 'Benjamin Harrison August 20, 1833 – March 13, 1901 was an American lawyer and politician who served as the 23rd from 1889 to 1893. He was a grandson of the ninth president, , and a great-grandson of , a who signed the .'}, {'first_name': 'Rutherford', 'last_name': 'Hayes', 'wikipedia_url': 'https://en.wikipedia.org/wiki/Rutherford_B._Hayes', 'first_paragraph': 'Rutherford Birchard Hayes October 4, 1822 – January 17, 1893 was an American lawyer and politician who served as the 19th from 1877 to 1881, after serving in the and as . Before the , Hayes was a lawyer and staunch who defended refugee slaves in court proceedings. He served in the and the House of Representatives before assuming the presidency. His presidency represents a turning point in U.S. history, as historians consider it the formal end of . Hayes, a prominent member of the Republican \"\" faction, placated both Southern Democrats and Republican businessmen by ending the federal government\\'s involvement in attempting to bring racial equality in .'}, {'first_name': 'John', 'last_name': 'Coolidge', 'wikipedia_url': 'https://en.wikipedia.org/wiki/Calvin_Coolidge', 'first_paragraph': 'Calvin Coolidge born John Calvin Coolidge Jr. July 4, 1872 – January 5, 1933 was the 30th from 1923 to 1929. Born in , Coolidge was a lawyer from who climbed up the ladder of state politics, eventually becoming the state\\'s . His response to the of 1919 thrust him into the national spotlight as a man of decisive action. He was elected the country\\'s 29th the next year, succeeding the presidency upon the sudden death of President in 1923. Elected in his own right in , Coolidge gained a reputation as a and also as a man who said very little and had a dry sense of humor, receiving the nickname \"Silent Cal\". Though his widespread popularity enabled him to run for a third term, he chose not to run again in , remarking that ten years as president was \"longer than any other man has had it – too long!\"'}, {'first_name': '', 'last_name': '', 'wikipedia_url': '', 'first_paragraph': 'Information could not be extracted. Either link not found or link has error'}]\n"
     ]
    }
   ],
   "source": [
    "# 3 lines\n",
    "file_json = open(r\"C:\\BeCode\\LocalRepos\\GNT-Arai-4\\us_leaders.json\", 'r')\n",
    "data = json.load(file_json)\n",
    "print(data)\n",
    "    \n",
    "file_json.close()"
   ]
  },
  {
   "cell_type": "code",
   "execution_count": null,
   "metadata": {
    "id": "lWQ6bbn31cix"
   },
   "outputs": [],
   "source": [
    "# Call the function (1 line)"
   ]
  },
  {
   "cell_type": "markdown",
   "metadata": {
    "id": "W5W6nPihlQo9"
   },
   "source": [
    "## Tidy things up in a stand-alone python script\n",
    "\n",
    "Congratulations! You now have a working scraper! However, your code is scattered throughout this notebook along side the tutorials. Hardly production ready...\n",
    "\n",
    "Copy and paste what you need in a separate `leaders_scraper.py` file.\n",
    "Make sure it works by calling `python3 leaders_scraper.py`"
   ]
  },
  {
   "cell_type": "markdown",
   "metadata": {
    "id": "D0cvv193mlxY"
   },
   "source": [
    "## To go further\n",
    "\n",
    "If you want to practice scraping, you can read this section and tackle the exercise.\n",
    "\n",
    "You have noticed the API returns very partial results for country leaders. Many are missing. Overwrite the `get_leaders()` function to get its list from Wikipedia and extract their *personal details* from the frame on the side.\n",
    "\n",
    "Good luck!"
   ]
  }
 ],
 "metadata": {
  "colab": {
   "collapsed_sections": [],
   "provenance": [],
   "toc_visible": true
  },
  "kernelspec": {
   "display_name": "wikiedia_scraper",
   "language": "python",
   "name": "wikiedia_scraper"
  },
  "language_info": {
   "codemirror_mode": {
    "name": "ipython",
    "version": 3
   },
   "file_extension": ".py",
   "mimetype": "text/x-python",
   "name": "python",
   "nbconvert_exporter": "python",
   "pygments_lexer": "ipython3",
   "version": "3.10.6"
  },
  "vscode": {
   "interpreter": {
    "hash": "aee8b7b246df8f9039afb4144a1f6fd8d2ca17a180786b69acc140d282b71a49"
   }
  }
 },
 "nbformat": 4,
 "nbformat_minor": 1
}
